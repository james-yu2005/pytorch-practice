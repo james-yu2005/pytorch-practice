{
  "nbformat": 4,
  "nbformat_minor": 0,
  "metadata": {
    "colab": {
      "provenance": [],
      "gpuType": "T4",
      "authorship_tag": "ABX9TyON66JPzQkonY0SXnx9Gm04",
      "include_colab_link": true
    },
    "kernelspec": {
      "name": "python3",
      "display_name": "Python 3"
    },
    "language_info": {
      "name": "python"
    },
    "accelerator": "GPU"
  },
  "cells": [
    {
      "cell_type": "markdown",
      "metadata": {
        "id": "view-in-github",
        "colab_type": "text"
      },
      "source": [
        "<a href=\"https://colab.research.google.com/github/james-yu2005/pytorch-practice/blob/main/pytorch_workflow_01.ipynb\" target=\"_parent\"><img src=\"https://colab.research.google.com/assets/colab-badge.svg\" alt=\"Open In Colab\"/></a>"
      ]
    },
    {
      "cell_type": "markdown",
      "source": [
        "## Pytorch workflow\n",
        "1. prepare data,\n",
        "2. build model,\n",
        "3. fit model to data (train),\n",
        "4. make predictions and evaluate those predictions,\n",
        "5. save and load model,\n",
        "6. put all together"
      ],
      "metadata": {
        "id": "Be6w5K8iuLX-"
      }
    },
    {
      "cell_type": "code",
      "source": [
        "import torch\n",
        "from torch import nn\n",
        "import matplotlib.pyplot as plt\n",
        "## nn contains all of pytorch building blocks for neural networks\n",
        "\n",
        "torch.__version__"
      ],
      "metadata": {
        "colab": {
          "base_uri": "https://localhost:8080/",
          "height": 36
        },
        "id": "faOG14JRubXM",
        "outputId": "d433f18d-f695-44df-f5e4-1caf846d880f"
      },
      "execution_count": 1,
      "outputs": [
        {
          "output_type": "execute_result",
          "data": {
            "text/plain": [
              "'2.8.0+cu126'"
            ],
            "application/vnd.google.colaboratory.intrinsic+json": {
              "type": "string"
            }
          },
          "metadata": {},
          "execution_count": 1
        }
      ]
    },
    {
      "cell_type": "code",
      "source": [
        "# Data preparation and loading --> data is legit anything bro\n",
        "# Make a straight line with known parameters\n",
        "\n",
        "w = 0.7\n",
        "b = 0.3\n",
        "\n",
        "start = 0\n",
        "end = 1\n",
        "step = 0.02\n",
        "X = torch.arange(start,end,step).unsqueeze(dim=1) # add extra dimension at index 1\n",
        "y = w * X + b\n",
        "X[:20], y[:20], len(X), len(y), X.shape, y.shape"
      ],
      "metadata": {
        "colab": {
          "base_uri": "https://localhost:8080/"
        },
        "id": "u-nXwdOyu6bJ",
        "outputId": "9f3099ca-2af3-4c21-d89a-16bd972a0895"
      },
      "execution_count": 2,
      "outputs": [
        {
          "output_type": "execute_result",
          "data": {
            "text/plain": [
              "(tensor([[0.0000],\n",
              "         [0.0200],\n",
              "         [0.0400],\n",
              "         [0.0600],\n",
              "         [0.0800],\n",
              "         [0.1000],\n",
              "         [0.1200],\n",
              "         [0.1400],\n",
              "         [0.1600],\n",
              "         [0.1800],\n",
              "         [0.2000],\n",
              "         [0.2200],\n",
              "         [0.2400],\n",
              "         [0.2600],\n",
              "         [0.2800],\n",
              "         [0.3000],\n",
              "         [0.3200],\n",
              "         [0.3400],\n",
              "         [0.3600],\n",
              "         [0.3800]]),\n",
              " tensor([[0.3000],\n",
              "         [0.3140],\n",
              "         [0.3280],\n",
              "         [0.3420],\n",
              "         [0.3560],\n",
              "         [0.3700],\n",
              "         [0.3840],\n",
              "         [0.3980],\n",
              "         [0.4120],\n",
              "         [0.4260],\n",
              "         [0.4400],\n",
              "         [0.4540],\n",
              "         [0.4680],\n",
              "         [0.4820],\n",
              "         [0.4960],\n",
              "         [0.5100],\n",
              "         [0.5240],\n",
              "         [0.5380],\n",
              "         [0.5520],\n",
              "         [0.5660]]),\n",
              " 50,\n",
              " 50,\n",
              " torch.Size([50, 1]),\n",
              " torch.Size([50, 1]))"
            ]
          },
          "metadata": {},
          "execution_count": 2
        }
      ]
    },
    {
      "cell_type": "code",
      "source": [
        "# Create a train/test split\n",
        "train_split = int(0.8 * len(X))\n",
        "X_train,y_train = X[:train_split], y[:train_split]\n",
        "X_test, y_test = X[train_split:], y[train_split:]\n",
        "len(X_test), len(X_train)"
      ],
      "metadata": {
        "colab": {
          "base_uri": "https://localhost:8080/"
        },
        "id": "NO__ovWWxO4x",
        "outputId": "9d3d13a5-f8a1-422f-f712-02f16c911099"
      },
      "execution_count": 3,
      "outputs": [
        {
          "output_type": "execute_result",
          "data": {
            "text/plain": [
              "(10, 40)"
            ]
          },
          "metadata": {},
          "execution_count": 3
        }
      ]
    },
    {
      "cell_type": "code",
      "source": [
        "def plot_predictions(train_data=X_train,\n",
        "                     train_labels=y_train,\n",
        "                     test_data=X_test,\n",
        "                     test_labels=y_test,\n",
        "                     predictions=None):\n",
        "  # Plot training data in blue\n",
        "  plt.scatter(train_data, train_labels, c='b', s=4, label=\"Training data\")\n",
        "\n",
        "  # Plot test data in green\n",
        "  plt.scatter(test_data, test_labels, c='r', s=4, label=\"Testing data\")\n",
        "\n",
        "  if predictions is not None:\n",
        "    plt.scatter(test_data, predictions, c='g', s=4, label=\"Predictions\")\n",
        "\n",
        "  plt.legend(prop={\"size\": 14})\n",
        "  plt.plot()"
      ],
      "metadata": {
        "id": "tZ1PW0KqyKmk"
      },
      "execution_count": 4,
      "outputs": []
    },
    {
      "cell_type": "code",
      "source": [
        "plot_predictions()"
      ],
      "metadata": {
        "colab": {
          "base_uri": "https://localhost:8080/",
          "height": 430
        },
        "id": "8TvJJvzUy_k8",
        "outputId": "848aa1c5-eab7-4c67-fe32-de95a764577d"
      },
      "execution_count": 5,
      "outputs": [
        {
          "output_type": "display_data",
          "data": {
            "text/plain": [
              "<Figure size 640x480 with 1 Axes>"
            ],
            "image/png": "[encoded data removed]"
          },
          "metadata": {}
        }
      ]
    },
    {
      "cell_type": "markdown",
      "source": [
        "## Build Model\n",
        "\n",
        "Use gradient descent and backpropagation, which pytorch takes care of for us"
      ],
      "metadata": {
        "id": "v1WFLbrQzdve"
      }
    },
    {
      "cell_type": "code",
      "source": [
        "# Linear regression model class\n",
        "class LinearRegressionModel(nn.Module): # almost everything in pytorch inherits from nn.module\n",
        "  def __init__(self):\n",
        "    super().__init__()\n",
        "    self.weights = nn.Parameter(torch.randn(1, requires_grad=True, dtype=torch.float32))\n",
        "    self.bias = nn.Parameter(torch.randn(1, requires_grad=True, dtype=torch.float32))\n",
        "\n",
        "  # Forward method to define the computation in the model\n",
        "  def forward(self, x: torch.Tensor) -> torch.Tensor:\n",
        "    return self.weights * x + self.bias # linear regression formula\n"
      ],
      "metadata": {
        "id": "BkcG5sA3ztym"
      },
      "execution_count": 6,
      "outputs": []
    },
    {
      "cell_type": "markdown",
      "source": [
        "## Pytorch model building essentials\n",
        "\n",
        "torch.nn - computational graphs (a neural network can be considered a computational graph)\n",
        "torch.nn.Parameter - what parameters our model should try and learn (pytorch layer oftentimes)\n",
        "torch.nn.Module - base class for all neural network modules\n",
        "torch.optim - where optimizers life for backpropogation\n",
        "def forward() - all nn.Module subclasses require you to override this"
      ],
      "metadata": {
        "id": "XBa03Min0tSY"
      }
    },
    {
      "cell_type": "markdown",
      "source": [
        "## Checking the contents of our PyTorch Model\n",
        ".parameter() use this"
      ],
      "metadata": {
        "id": "XiDAhzN72Lch"
      }
    },
    {
      "cell_type": "code",
      "source": [
        "# Create a random seed\n",
        "torch.manual_seed(2)\n",
        "\n",
        "# Create an instance of the model\n",
        "model_0 = LinearRegressionModel()\n",
        "list(model_0.parameters())"
      ],
      "metadata": {
        "id": "I9Z6WDvV2UWQ",
        "outputId": "dd8744d4-2833-4889-a92a-549a08e5c4b3",
        "colab": {
          "base_uri": "https://localhost:8080/"
        }
      },
      "execution_count": 7,
      "outputs": [
        {
          "output_type": "execute_result",
          "data": {
            "text/plain": [
              "[Parameter containing:\n",
              " tensor([0.3923], requires_grad=True),\n",
              " Parameter containing:\n",
              " tensor([-0.2236], requires_grad=True)]"
            ]
          },
          "metadata": {},
          "execution_count": 7
        }
      ]
    },
    {
      "cell_type": "code",
      "source": [
        "# List named parameters\n",
        "model_0.state_dict()"
      ],
      "metadata": {
        "id": "V70uQ5Ws3M6s",
        "outputId": "8bb00e75-2b17-4d0b-af67-19c729bcd8be",
        "colab": {
          "base_uri": "https://localhost:8080/"
        }
      },
      "execution_count": 8,
      "outputs": [
        {
          "output_type": "execute_result",
          "data": {
            "text/plain": [
              "OrderedDict([('weights', tensor([0.3923])), ('bias', tensor([-0.2236]))])"
            ]
          },
          "metadata": {},
          "execution_count": 8
        }
      ]
    },
    {
      "cell_type": "code",
      "source": [
        "X_test, y_test"
      ],
      "metadata": {
        "id": "73j4e_kD3__6",
        "outputId": "aa6a4877-76b9-4759-80f5-4babd938f6fb",
        "colab": {
          "base_uri": "https://localhost:8080/"
        }
      },
      "execution_count": 9,
      "outputs": [
        {
          "output_type": "execute_result",
          "data": {
            "text/plain": [
              "(tensor([[0.8000],\n",
              "         [0.8200],\n",
              "         [0.8400],\n",
              "         [0.8600],\n",
              "         [0.8800],\n",
              "         [0.9000],\n",
              "         [0.9200],\n",
              "         [0.9400],\n",
              "         [0.9600],\n",
              "         [0.9800]]),\n",
              " tensor([[0.8600],\n",
              "         [0.8740],\n",
              "         [0.8880],\n",
              "         [0.9020],\n",
              "         [0.9160],\n",
              "         [0.9300],\n",
              "         [0.9440],\n",
              "         [0.9580],\n",
              "         [0.9720],\n",
              "         [0.9860]]))"
            ]
          },
          "metadata": {},
          "execution_count": 9
        }
      ]
    },
    {
      "cell_type": "code",
      "source": [
        "# Making predictions using 'torch.inference_mode()', faster because certain things are not being saved in memory\n",
        "# Similar thing with 'torch.no_grad()'\n",
        "with torch.inference_mode():\n",
        "  y_preds = model_0(X_test)\n",
        "\n",
        "y_preds"
      ],
      "metadata": {
        "id": "eI7PHROW3s7r",
        "outputId": "338482a2-aee5-4225-e07e-da270aa97865",
        "colab": {
          "base_uri": "https://localhost:8080/"
        }
      },
      "execution_count": 10,
      "outputs": [
        {
          "output_type": "execute_result",
          "data": {
            "text/plain": [
              "tensor([[0.0903],\n",
              "        [0.0981],\n",
              "        [0.1060],\n",
              "        [0.1138],\n",
              "        [0.1217],\n",
              "        [0.1295],\n",
              "        [0.1373],\n",
              "        [0.1452],\n",
              "        [0.1530],\n",
              "        [0.1609]])"
            ]
          },
          "metadata": {},
          "execution_count": 10
        }
      ]
    },
    {
      "cell_type": "code",
      "source": [
        "plot_predictions(predictions=y_preds)"
      ],
      "metadata": {
        "id": "Q-wF-fAo4GEv",
        "outputId": "9b9f4efd-fe4c-4730-9a2c-78ae2bdf179b",
        "colab": {
          "base_uri": "https://localhost:8080/",
          "height": 430
        }
      },
      "execution_count": 11,
      "outputs": [
        {
          "output_type": "display_data",
          "data": {
            "text/plain": [
              "<Figure size 640x480 with 1 Axes>"
            ],
            "image/png": "[encoded data removed]"
          },
          "metadata": {}
        }
      ]
    },
    {
      "cell_type": "markdown",
      "source": [
        "## Train model\n",
        "could use loss function"
      ],
      "metadata": {
        "id": "xphqy9M1FeWM"
      }
    },
    {
      "cell_type": "code",
      "source": [
        "# Setup loss function\n",
        "loss_fn = nn.L1Loss()\n",
        "\n",
        "# Setup optimzer\n",
        "optimizer = torch.optim.SGD(params=model_0.parameters(),\n",
        "                            lr=0.01)"
      ],
      "metadata": {
        "id": "zSYPV2OGHRv_"
      },
      "execution_count": 12,
      "outputs": []
    },
    {
      "cell_type": "markdown",
      "source": [
        "## Building a Training Loop\n",
        "1. loop through data\n",
        "2. Forward pass (forward propagation)\n",
        "3. Calculate Loss\n",
        "4. Optimize zero grad\n",
        "5. Loss backwards (move back through network, calculating gradient of each of the parameters)\n",
        "5. Optimizer step"
      ],
      "metadata": {
        "id": "cpCLO4gPLzqi"
      }
    },
    {
      "cell_type": "code",
      "source": [
        "# An epoch is one loop through data...\n",
        "epochs = 100\n",
        "\n",
        "epoch_count = []\n",
        "loss_values = []\n",
        "test_loss_values = []\n",
        "\n",
        "# 0. loop through data\n",
        "for epoch in range(epochs):\n",
        "  # Set the model to training mode\n",
        "  model_0.train() # train mode\n",
        "\n",
        "  # 1. Forward pass\n",
        "  y_pred = model_0(X_train)\n",
        "\n",
        "  # 2. Calculate Loss\n",
        "  loss = loss_fn(y_pred, y_train)\n",
        "  print(loss)\n",
        "\n",
        "  # 3. Optimize zero grad\n",
        "  optimizer.zero_grad()\n",
        "\n",
        "  # 4. Loss backwards\n",
        "  loss.backward()\n",
        "\n",
        "  # 5. Optimizer step\n",
        "  optimizer.step()\n",
        "\n",
        "  model_0.eval() # eval mode\n",
        "  with torch.inference_mode(): # turn off gradient tracking and some others things\n",
        "    # 1. forward pass\n",
        "    test_pred = model_0(X_test)\n",
        "\n",
        "    # 2. Calculate loss\n",
        "    test_loss = loss_fn(test_pred, y_test)\n",
        "  if epoch % 10 == 0:\n",
        "    print(f\"Epoch  {epoch} | Loss {loss} | Test loss: {test_loss}\")\n",
        "    epoch_count.append(epoch)\n",
        "    loss_values.append(loss)\n",
        "    test_loss_values.append(test_loss)\n",
        "    print(model_0.state_dict())\n"
      ],
      "metadata": {
        "id": "b__d7moBL2W1",
        "outputId": "a1c7f65e-a0fc-40de-e6c0-2f72acf17b1b",
        "colab": {
          "base_uri": "https://localhost:8080/"
        }
      },
      "execution_count": 13,
      "outputs": [
        {
          "output_type": "stream",
          "name": "stdout",
          "text": [
            "tensor(0.6436, grad_fn=<MeanBackward0>)\n",
            "Epoch  0 | Loss 0.6435682773590088 | Test loss: 0.7839487791061401\n",
            "OrderedDict({'weights': tensor([0.3962]), 'bias': tensor([-0.2136])})\n",
            "tensor(0.6320, grad_fn=<MeanBackward0>)\n",
            "tensor(0.6205, grad_fn=<MeanBackward0>)\n",
            "tensor(0.6090, grad_fn=<MeanBackward0>)\n",
            "tensor(0.5975, grad_fn=<MeanBackward0>)\n",
            "tensor(0.5860, grad_fn=<MeanBackward0>)\n",
            "tensor(0.5744, grad_fn=<MeanBackward0>)\n",
            "tensor(0.5629, grad_fn=<MeanBackward0>)\n",
            "tensor(0.5514, grad_fn=<MeanBackward0>)\n",
            "tensor(0.5399, grad_fn=<MeanBackward0>)\n",
            "tensor(0.5284, grad_fn=<MeanBackward0>)\n",
            "Epoch  10 | Loss 0.5283582806587219 | Test loss: 0.6492388844490051\n",
            "OrderedDict({'weights': tensor([0.4352]), 'bias': tensor([-0.1136])})\n",
            "tensor(0.5168, grad_fn=<MeanBackward0>)\n",
            "tensor(0.5053, grad_fn=<MeanBackward0>)\n",
            "tensor(0.4938, grad_fn=<MeanBackward0>)\n",
            "tensor(0.4823, grad_fn=<MeanBackward0>)\n",
            "tensor(0.4708, grad_fn=<MeanBackward0>)\n",
            "tensor(0.4592, grad_fn=<MeanBackward0>)\n",
            "tensor(0.4477, grad_fn=<MeanBackward0>)\n",
            "tensor(0.4362, grad_fn=<MeanBackward0>)\n",
            "tensor(0.4247, grad_fn=<MeanBackward0>)\n",
            "tensor(0.4131, grad_fn=<MeanBackward0>)\n",
            "Epoch  20 | Loss 0.41314831376075745 | Test loss: 0.5145289897918701\n",
            "OrderedDict({'weights': tensor([0.4742]), 'bias': tensor([-0.0136])})\n",
            "tensor(0.4016, grad_fn=<MeanBackward0>)\n",
            "tensor(0.3901, grad_fn=<MeanBackward0>)\n",
            "tensor(0.3786, grad_fn=<MeanBackward0>)\n",
            "tensor(0.3671, grad_fn=<MeanBackward0>)\n",
            "tensor(0.3555, grad_fn=<MeanBackward0>)\n",
            "tensor(0.3440, grad_fn=<MeanBackward0>)\n",
            "tensor(0.3325, grad_fn=<MeanBackward0>)\n",
            "tensor(0.3210, grad_fn=<MeanBackward0>)\n",
            "tensor(0.3095, grad_fn=<MeanBackward0>)\n",
            "tensor(0.2979, grad_fn=<MeanBackward0>)\n",
            "Epoch  30 | Loss 0.2979383170604706 | Test loss: 0.3798190653324127\n",
            "OrderedDict({'weights': tensor([0.5132]), 'bias': tensor([0.0864])})\n",
            "tensor(0.2864, grad_fn=<MeanBackward0>)\n",
            "tensor(0.2749, grad_fn=<MeanBackward0>)\n",
            "tensor(0.2634, grad_fn=<MeanBackward0>)\n",
            "tensor(0.2519, grad_fn=<MeanBackward0>)\n",
            "tensor(0.2403, grad_fn=<MeanBackward0>)\n",
            "tensor(0.2288, grad_fn=<MeanBackward0>)\n",
            "tensor(0.2173, grad_fn=<MeanBackward0>)\n",
            "tensor(0.2058, grad_fn=<MeanBackward0>)\n",
            "tensor(0.1942, grad_fn=<MeanBackward0>)\n",
            "tensor(0.1827, grad_fn=<MeanBackward0>)\n",
            "Epoch  40 | Loss 0.1827283352613449 | Test loss: 0.24510908126831055\n",
            "OrderedDict({'weights': tensor([0.5522]), 'bias': tensor([0.1864])})\n",
            "tensor(0.1712, grad_fn=<MeanBackward0>)\n",
            "tensor(0.1597, grad_fn=<MeanBackward0>)\n",
            "tensor(0.1482, grad_fn=<MeanBackward0>)\n",
            "tensor(0.1366, grad_fn=<MeanBackward0>)\n",
            "tensor(0.1251, grad_fn=<MeanBackward0>)\n",
            "tensor(0.1136, grad_fn=<MeanBackward0>)\n",
            "tensor(0.1021, grad_fn=<MeanBackward0>)\n",
            "tensor(0.0906, grad_fn=<MeanBackward0>)\n",
            "tensor(0.0790, grad_fn=<MeanBackward0>)\n",
            "tensor(0.0675, grad_fn=<MeanBackward0>)\n",
            "Epoch  50 | Loss 0.06751836836338043 | Test loss: 0.11039917171001434\n",
            "OrderedDict({'weights': tensor([0.5912]), 'bias': tensor([0.2864])})\n",
            "tensor(0.0560, grad_fn=<MeanBackward0>)\n",
            "tensor(0.0445, grad_fn=<MeanBackward0>)\n",
            "tensor(0.0336, grad_fn=<MeanBackward0>)\n",
            "tensor(0.0265, grad_fn=<MeanBackward0>)\n",
            "tensor(0.0221, grad_fn=<MeanBackward0>)\n",
            "tensor(0.0195, grad_fn=<MeanBackward0>)\n",
            "tensor(0.0180, grad_fn=<MeanBackward0>)\n",
            "tensor(0.0171, grad_fn=<MeanBackward0>)\n",
            "tensor(0.0165, grad_fn=<MeanBackward0>)\n",
            "tensor(0.0160, grad_fn=<MeanBackward0>)\n",
            "Epoch  60 | Loss 0.016020705923438072 | Test loss: 0.03857617825269699\n",
            "OrderedDict({'weights': tensor([0.6219]), 'bias': tensor([0.3309])})\n",
            "tensor(0.0156, grad_fn=<MeanBackward0>)\n",
            "tensor(0.0152, grad_fn=<MeanBackward0>)\n",
            "tensor(0.0149, grad_fn=<MeanBackward0>)\n",
            "tensor(0.0145, grad_fn=<MeanBackward0>)\n",
            "tensor(0.0142, grad_fn=<MeanBackward0>)\n",
            "tensor(0.0138, grad_fn=<MeanBackward0>)\n",
            "tensor(0.0135, grad_fn=<MeanBackward0>)\n",
            "tensor(0.0132, grad_fn=<MeanBackward0>)\n",
            "tensor(0.0128, grad_fn=<MeanBackward0>)\n",
            "tensor(0.0125, grad_fn=<MeanBackward0>)\n",
            "Epoch  70 | Loss 0.012479040771722794 | Test loss: 0.028251904994249344\n",
            "OrderedDict({'weights': tensor([0.6397]), 'bias': tensor([0.3254])})\n",
            "tensor(0.0121, grad_fn=<MeanBackward0>)\n",
            "tensor(0.0118, grad_fn=<MeanBackward0>)\n",
            "tensor(0.0114, grad_fn=<MeanBackward0>)\n",
            "tensor(0.0111, grad_fn=<MeanBackward0>)\n",
            "tensor(0.0108, grad_fn=<MeanBackward0>)\n",
            "tensor(0.0104, grad_fn=<MeanBackward0>)\n",
            "tensor(0.0101, grad_fn=<MeanBackward0>)\n",
            "tensor(0.0097, grad_fn=<MeanBackward0>)\n",
            "tensor(0.0094, grad_fn=<MeanBackward0>)\n",
            "tensor(0.0090, grad_fn=<MeanBackward0>)\n",
            "Epoch  80 | Loss 0.009042811580002308 | Test loss: 0.020666247233748436\n",
            "OrderedDict({'weights': tensor([0.6566]), 'bias': tensor([0.3179])})\n",
            "tensor(0.0087, grad_fn=<MeanBackward0>)\n",
            "tensor(0.0084, grad_fn=<MeanBackward0>)\n",
            "tensor(0.0080, grad_fn=<MeanBackward0>)\n",
            "tensor(0.0077, grad_fn=<MeanBackward0>)\n",
            "tensor(0.0073, grad_fn=<MeanBackward0>)\n",
            "tensor(0.0070, grad_fn=<MeanBackward0>)\n",
            "tensor(0.0066, grad_fn=<MeanBackward0>)\n",
            "tensor(0.0063, grad_fn=<MeanBackward0>)\n",
            "tensor(0.0060, grad_fn=<MeanBackward0>)\n",
            "tensor(0.0056, grad_fn=<MeanBackward0>)\n",
            "Epoch  90 | Loss 0.005614229943603277 | Test loss: 0.012393707409501076\n",
            "OrderedDict({'weights': tensor([0.6738]), 'bias': tensor([0.3109])})\n",
            "tensor(0.0053, grad_fn=<MeanBackward0>)\n",
            "tensor(0.0049, grad_fn=<MeanBackward0>)\n",
            "tensor(0.0046, grad_fn=<MeanBackward0>)\n",
            "tensor(0.0042, grad_fn=<MeanBackward0>)\n",
            "tensor(0.0039, grad_fn=<MeanBackward0>)\n",
            "tensor(0.0035, grad_fn=<MeanBackward0>)\n",
            "tensor(0.0032, grad_fn=<MeanBackward0>)\n",
            "tensor(0.0029, grad_fn=<MeanBackward0>)\n",
            "tensor(0.0025, grad_fn=<MeanBackward0>)\n"
          ]
        }
      ]
    },
    {
      "cell_type": "code",
      "source": [
        "model_0.state_dict()"
      ],
      "metadata": {
        "id": "QT9kKluJUU-S",
        "outputId": "6748ae6a-5a3a-4f54-ffcf-e7f143764594",
        "colab": {
          "base_uri": "https://localhost:8080/"
        }
      },
      "execution_count": 14,
      "outputs": [
        {
          "output_type": "execute_result",
          "data": {
            "text/plain": [
              "OrderedDict([('weights', tensor([0.6891])), ('bias', tensor([0.3044]))])"
            ]
          },
          "metadata": {},
          "execution_count": 14
        }
      ]
    },
    {
      "cell_type": "code",
      "source": [
        "w,b"
      ],
      "metadata": {
        "id": "FjKyx-YTUo46",
        "outputId": "268f78f0-786e-4c36-a24b-6b9b74e8fd54",
        "colab": {
          "base_uri": "https://localhost:8080/"
        }
      },
      "execution_count": 15,
      "outputs": [
        {
          "output_type": "execute_result",
          "data": {
            "text/plain": [
              "(0.7, 0.3)"
            ]
          },
          "metadata": {},
          "execution_count": 15
        }
      ]
    },
    {
      "cell_type": "code",
      "source": [
        "with torch.inference_mode():\n",
        "  y_pred_new = model_0(X_test)\n",
        "y_pred_new"
      ],
      "metadata": {
        "id": "Q4eK4YjeU7WL",
        "outputId": "f0f86aed-6cdd-4b68-c4f0-eac23beb4430",
        "colab": {
          "base_uri": "https://localhost:8080/"
        }
      },
      "execution_count": 16,
      "outputs": [
        {
          "output_type": "execute_result",
          "data": {
            "text/plain": [
              "tensor([[0.8558],\n",
              "        [0.8695],\n",
              "        [0.8833],\n",
              "        [0.8971],\n",
              "        [0.9109],\n",
              "        [0.9247],\n",
              "        [0.9385],\n",
              "        [0.9522],\n",
              "        [0.9660],\n",
              "        [0.9798]])"
            ]
          },
          "metadata": {},
          "execution_count": 16
        }
      ]
    },
    {
      "cell_type": "code",
      "source": [
        "plot_predictions(predictions=y_pred_new)"
      ],
      "metadata": {
        "id": "qNeSUXtAVNwY",
        "outputId": "5794a5c0-4926-477c-cd5f-e5478d70ecc3",
        "colab": {
          "base_uri": "https://localhost:8080/",
          "height": 430
        }
      },
      "execution_count": 17,
      "outputs": [
        {
          "output_type": "display_data",
          "data": {
            "text/plain": [
              "<Figure size 640x480 with 1 Axes>"
            ],
            "image/png": "[encoded data removed]"
          },
          "metadata": {}
        }
      ]
    },
    {
      "cell_type": "code",
      "source": [
        "import numpy as np\n",
        "test_loss_values, loss_values, np.array([t.detach().numpy() for t in test_loss_values])"
      ],
      "metadata": {
        "id": "7TRcI4AvZGBi",
        "outputId": "b067f0f6-fa99-40b5-f3eb-9ecbd2a1c55e",
        "colab": {
          "base_uri": "https://localhost:8080/"
        }
      },
      "execution_count": 18,
      "outputs": [
        {
          "output_type": "execute_result",
          "data": {
            "text/plain": [
              "([tensor(0.7839),\n",
              "  tensor(0.6492),\n",
              "  tensor(0.5145),\n",
              "  tensor(0.3798),\n",
              "  tensor(0.2451),\n",
              "  tensor(0.1104),\n",
              "  tensor(0.0386),\n",
              "  tensor(0.0283),\n",
              "  tensor(0.0207),\n",
              "  tensor(0.0124)],\n",
              " [tensor(0.6436, grad_fn=<MeanBackward0>),\n",
              "  tensor(0.5284, grad_fn=<MeanBackward0>),\n",
              "  tensor(0.4131, grad_fn=<MeanBackward0>),\n",
              "  tensor(0.2979, grad_fn=<MeanBackward0>),\n",
              "  tensor(0.1827, grad_fn=<MeanBackward0>),\n",
              "  tensor(0.0675, grad_fn=<MeanBackward0>),\n",
              "  tensor(0.0160, grad_fn=<MeanBackward0>),\n",
              "  tensor(0.0125, grad_fn=<MeanBackward0>),\n",
              "  tensor(0.0090, grad_fn=<MeanBackward0>),\n",
              "  tensor(0.0056, grad_fn=<MeanBackward0>)],\n",
              " array([0.7839488 , 0.6492389 , 0.514529  , 0.37981907, 0.24510908,\n",
              "        0.11039917, 0.03857618, 0.0282519 , 0.02066625, 0.01239371],\n",
              "       dtype=float32))"
            ]
          },
          "metadata": {},
          "execution_count": 18
        }
      ]
    },
    {
      "cell_type": "code",
      "source": [
        "plt.plot(epoch_count,test_loss_values, c='b', label='Test Loss Values')\n",
        "plt.plot(epoch_count,np.array([t.detach().numpy() for t in loss_values]), c='r', label=\"Training Loss Values\")\n",
        "plt.title(\"Training and test loss curves\")\n",
        "plt.plot()"
      ],
      "metadata": {
        "id": "wr7TaIgiZNgl",
        "outputId": "e02c323f-560f-4466-9509-27e1092c1fa0",
        "colab": {
          "base_uri": "https://localhost:8080/",
          "height": 469
        }
      },
      "execution_count": 19,
      "outputs": [
        {
          "output_type": "execute_result",
          "data": {
            "text/plain": [
              "[]"
            ]
          },
          "metadata": {},
          "execution_count": 19
        },
        {
          "output_type": "display_data",
          "data": {
            "text/plain": [
              "<Figure size 640x480 with 1 Axes>"
            ],
            "image/png": "[encoded data removed]"
          },
          "metadata": {}
        }
      ]
    },
    {
      "cell_type": "code",
      "source": [
        "# Saving our Pytorch model\n",
        "from pathlib import Path\n",
        "\n",
        "# Create models directory\n",
        "MODEL_PATH = Path(\"models\")\n",
        "MODEL_PATH.mkdir(parents=True, exist_ok=True)\n",
        "\n",
        "# Create model save path\n",
        "MODEL_NAME = \"simple_LR.pt\"\n",
        "MODEL_SAVE_PATH = MODEL_PATH / MODEL_NAME\n",
        "\n",
        "torch.save(obj=model_0.state_dict(), f=MODEL_SAVE_PATH)"
      ],
      "metadata": {
        "id": "eoHlT8txc0RB"
      },
      "execution_count": 20,
      "outputs": []
    },
    {
      "cell_type": "code",
      "source": [
        "!ls -1 models"
      ],
      "metadata": {
        "id": "Qyp2dKtLdriL",
        "outputId": "1b81d8ae-0b25-4090-cfb8-c8e7691327d4",
        "colab": {
          "base_uri": "https://localhost:8080/"
        }
      },
      "execution_count": 21,
      "outputs": [
        {
          "output_type": "stream",
          "name": "stdout",
          "text": [
            "simple_LR.pt\n"
          ]
        }
      ]
    },
    {
      "cell_type": "markdown",
      "source": [
        "## Loading PyTorch model"
      ],
      "metadata": {
        "id": "e3BJjtQmd9TM"
      }
    },
    {
      "cell_type": "code",
      "source": [
        "model_0.state_dict()"
      ],
      "metadata": {
        "id": "j_4dQD5jeA-G",
        "outputId": "d2dde82d-6600-420d-eec2-bfecae437aa7",
        "colab": {
          "base_uri": "https://localhost:8080/"
        }
      },
      "execution_count": 22,
      "outputs": [
        {
          "output_type": "execute_result",
          "data": {
            "text/plain": [
              "OrderedDict([('weights', tensor([0.6891])), ('bias', tensor([0.3044]))])"
            ]
          },
          "metadata": {},
          "execution_count": 22
        }
      ]
    },
    {
      "cell_type": "code",
      "source": [
        "# To load in a saved state_dict, we need a new instance of our model class\n",
        "loaded_model_0 = LinearRegressionModel()\n",
        "\n",
        "print(loaded_model_0.state_dict())"
      ],
      "metadata": {
        "id": "0qv9gAF_eGsC",
        "outputId": "4bc678ad-1cf2-4abe-ed6d-1f5b2d127473",
        "colab": {
          "base_uri": "https://localhost:8080/"
        }
      },
      "execution_count": 23,
      "outputs": [
        {
          "output_type": "stream",
          "name": "stdout",
          "text": [
            "OrderedDict({'weights': tensor([-0.3195]), 'bias': tensor([-1.2050])})\n"
          ]
        }
      ]
    },
    {
      "cell_type": "code",
      "source": [
        "# load previous state into new model\n",
        "loaded_model_0.load_state_dict(torch.load(f=MODEL_SAVE_PATH))\n",
        "loaded_model_0.state_dict()"
      ],
      "metadata": {
        "id": "Zy1VEoJzeSLD",
        "outputId": "14ca58fd-6558-4b59-edce-21be48c48275",
        "colab": {
          "base_uri": "https://localhost:8080/"
        }
      },
      "execution_count": 24,
      "outputs": [
        {
          "output_type": "execute_result",
          "data": {
            "text/plain": [
              "OrderedDict([('weights', tensor([0.6891])), ('bias', tensor([0.3044]))])"
            ]
          },
          "metadata": {},
          "execution_count": 24
        }
      ]
    },
    {
      "cell_type": "markdown",
      "source": [
        "## Data"
      ],
      "metadata": {
        "id": "ljgpukEEfCyy"
      }
    },
    {
      "cell_type": "code",
      "source": [
        "# Let it use gpu if available\n",
        "device = \"cuda\" if torch.cuda.is_available() else \"cpu\"\n",
        "print(f\"Using device: {device}\")"
      ],
      "metadata": {
        "id": "oBplvmkY0cNF",
        "outputId": "6ca296c4-243f-4fe1-fac3-c84a27efaab3",
        "colab": {
          "base_uri": "https://localhost:8080/"
        }
      },
      "execution_count": 25,
      "outputs": [
        {
          "output_type": "stream",
          "name": "stdout",
          "text": [
            "Using device: cuda\n"
          ]
        }
      ]
    },
    {
      "cell_type": "code",
      "source": [
        "torch.version.cuda"
      ],
      "metadata": {
        "id": "qDezek4B1AqS",
        "outputId": "de05ea16-7f27-4a3d-ddcb-8455d8fde129",
        "colab": {
          "base_uri": "https://localhost:8080/",
          "height": 36
        }
      },
      "execution_count": 27,
      "outputs": [
        {
          "output_type": "execute_result",
          "data": {
            "text/plain": [
              "'12.6'"
            ],
            "application/vnd.google.colaboratory.intrinsic+json": {
              "type": "string"
            }
          },
          "metadata": {},
          "execution_count": 27
        }
      ]
    }
  ]
}