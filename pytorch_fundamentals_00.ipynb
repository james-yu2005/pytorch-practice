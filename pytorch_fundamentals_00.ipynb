{
  "nbformat": 4,
  "nbformat_minor": 0,
  "metadata": {
    "colab": {
      "provenance": [],
      "gpuType": "T4",
      "authorship_tag": "ABX9TyPU5Qmo6pe4Ao3F4XsdunWl",
      "include_colab_link": true
    },
    "kernelspec": {
      "name": "python3",
      "display_name": "Python 3"
    },
    "language_info": {
      "name": "python"
    },
    "accelerator": "GPU"
  },
  "cells": [
    {
      "cell_type": "markdown",
      "metadata": {
        "id": "view-in-github",
        "colab_type": "text"
      },
      "source": [
        "<a href=\"https://colab.research.google.com/github/james-yu2005/pytorch-practice/blob/main/pytorch_fundamentals_00.ipynb\" target=\"_parent\"><img src=\"https://colab.research.google.com/assets/colab-badge.svg\" alt=\"Open In Colab\"/></a>"
      ]
    },
    {
      "cell_type": "code",
      "execution_count": 1,
      "metadata": {
        "colab": {
          "base_uri": "https://localhost:8080/"
        },
        "id": "hyUJo3wRVoUZ",
        "outputId": "6ba354ed-5e4e-4995-d881-978beb9458b6"
      },
      "outputs": [
        {
          "output_type": "stream",
          "name": "stdout",
          "text": [
            "2.8.0+cu126\n"
          ]
        }
      ],
      "source": [
        "import torch\n",
        "import pandas as pd\n",
        "import matplotlib.pyplot as plt\n",
        "import numpy as np\n",
        "print(torch.__version__)"
      ]
    },
    {
      "cell_type": "markdown",
      "source": [
        "## Intro to Tensors\n",
        "\n",
        "PyTorch tensors are created using 'torch.Tensor()'\n",
        "\n",
        "Matrix and Tensors are often uppercase while vectors and scalars are lowercase"
      ],
      "metadata": {
        "id": "AZdjyVY2WqQh"
      }
    },
    {
      "cell_type": "code",
      "source": [
        "# Create a tensor using torch.tensor(), can use dtype to specify datatype, can specify that data is stored on gpu which runs faster\n",
        "scalar = torch.tensor(190)\n",
        "print(scalar)\n",
        "\n",
        "vector = torch.tensor([19,5])\n",
        "print(vector)\n",
        "\n",
        "matrix = torch.tensor([[1.,2.],\n",
        "                      [3.,4.]], dtype=torch.float16)\n",
        "print(matrix)\n",
        "\n",
        "tensor = torch.tensor([[[1,2,3],\n",
        "                        [3,6,9],\n",
        "                        [1,7,9]]], dtype=torch.int32)\n",
        "print(tensor)"
      ],
      "metadata": {
        "colab": {
          "base_uri": "https://localhost:8080/"
        },
        "id": "vc-uHAtlW2Zy",
        "outputId": "3ea24e3f-c39d-431e-ff83-e665a46fb56c"
      },
      "execution_count": 2,
      "outputs": [
        {
          "output_type": "stream",
          "name": "stdout",
          "text": [
            "tensor(190)\n",
            "tensor([19,  5])\n",
            "tensor([[1., 2.],\n",
            "        [3., 4.]], dtype=torch.float16)\n",
            "tensor([[[1, 2, 3],\n",
            "         [3, 6, 9],\n",
            "         [1, 7, 9]]], dtype=torch.int32)\n"
          ]
        }
      ]
    },
    {
      "cell_type": "code",
      "source": [
        "# Can figure out dimensions using torch.tensor.ndim and shape using torch.tensor.shape\n",
        "print(scalar.ndim)\n",
        "print(scalar.shape)\n",
        "\n",
        "print(tensor.ndim)\n",
        "print(tensor.shape)"
      ],
      "metadata": {
        "colab": {
          "base_uri": "https://localhost:8080/"
        },
        "id": "L8xB1pKyXGce",
        "outputId": "cc9e69d4-6247-4ff8-cae7-15b12f86e3f0"
      },
      "execution_count": 3,
      "outputs": [
        {
          "output_type": "stream",
          "name": "stdout",
          "text": [
            "0\n",
            "torch.Size([])\n",
            "3\n",
            "torch.Size([1, 3, 3])\n"
          ]
        }
      ]
    },
    {
      "cell_type": "code",
      "source": [
        "# Get tensor back as python object using torch.tensor.item() --> only works on scalar\n",
        "print(scalar.item())"
      ],
      "metadata": {
        "colab": {
          "base_uri": "https://localhost:8080/"
        },
        "id": "kTxQPTj7XSr6",
        "outputId": "115406b2-dcff-40af-e29e-f28fc3226445"
      },
      "execution_count": 4,
      "outputs": [
        {
          "output_type": "stream",
          "name": "stdout",
          "text": [
            "190\n"
          ]
        }
      ]
    },
    {
      "cell_type": "markdown",
      "source": [
        "## Random Tensors\n",
        "\n",
        "Neural networks learn start with tensors with random numbers and adjust based on the data to better represent them as the model gets trained"
      ],
      "metadata": {
        "id": "ajy8Ck5ZOrDi"
      }
    },
    {
      "cell_type": "code",
      "source": [
        "# Random tensor of size (3,4)\n",
        "\n",
        "rand_tensor = torch.rand(3,4, dtype=torch.float16)\n",
        "rand_tensor"
      ],
      "metadata": {
        "id": "azZ-vWRHOyEc",
        "outputId": "7efdb5d3-4942-48c7-8e74-09ad6479190b",
        "colab": {
          "base_uri": "https://localhost:8080/"
        }
      },
      "execution_count": 5,
      "outputs": [
        {
          "output_type": "execute_result",
          "data": {
            "text/plain": [
              "tensor([[0.1582, 0.8394, 0.0527, 0.8110],\n",
              "        [0.3042, 0.2451, 0.0166, 0.3745],\n",
              "        [0.5889, 0.5103, 0.7310, 0.4907]], dtype=torch.float16)"
            ]
          },
          "metadata": {},
          "execution_count": 5
        }
      ]
    },
    {
      "cell_type": "code",
      "source": [
        "print(rand_tensor.ndim)\n",
        "print(rand_tensor.shape)"
      ],
      "metadata": {
        "id": "7S6mxvu6PTJO",
        "outputId": "50e06210-e6ba-4da1-a518-4a6f2c7fa333",
        "colab": {
          "base_uri": "https://localhost:8080/"
        }
      },
      "execution_count": 6,
      "outputs": [
        {
          "output_type": "stream",
          "name": "stdout",
          "text": [
            "2\n",
            "torch.Size([3, 4])\n"
          ]
        }
      ]
    },
    {
      "cell_type": "code",
      "source": [
        "image_size_tensor = torch.rand(size=(224,224,3))\n",
        "image_size_tensor.shape"
      ],
      "metadata": {
        "id": "066R6JAHPi3L",
        "outputId": "c17cdc75-ca7d-4665-a348-476194a87885",
        "colab": {
          "base_uri": "https://localhost:8080/"
        }
      },
      "execution_count": 7,
      "outputs": [
        {
          "output_type": "execute_result",
          "data": {
            "text/plain": [
              "torch.Size([224, 224, 3])"
            ]
          },
          "metadata": {},
          "execution_count": 7
        }
      ]
    },
    {
      "cell_type": "markdown",
      "source": [
        "## Zeros and Ones"
      ],
      "metadata": {
        "id": "-TNmwTi8QFgk"
      }
    },
    {
      "cell_type": "code",
      "source": [
        "# Create a tensor of all zeroes\n",
        "zeros = torch.zeros(3,4)\n",
        "zeros"
      ],
      "metadata": {
        "id": "3aWvEcF-QG5p",
        "outputId": "25314f35-1e01-41fc-b6ba-2aff17ff56ec",
        "colab": {
          "base_uri": "https://localhost:8080/"
        }
      },
      "execution_count": 8,
      "outputs": [
        {
          "output_type": "execute_result",
          "data": {
            "text/plain": [
              "tensor([[0., 0., 0., 0.],\n",
              "        [0., 0., 0., 0.],\n",
              "        [0., 0., 0., 0.]])"
            ]
          },
          "metadata": {},
          "execution_count": 8
        }
      ]
    },
    {
      "cell_type": "code",
      "source": [
        "# Note that this is Hadamard Product and not matrix multiplication\n",
        "\n",
        "zeros*rand_tensor"
      ],
      "metadata": {
        "id": "j2IK8SvQQami",
        "outputId": "c779bcc7-12dc-4789-80b6-f5d4a5dafc47",
        "colab": {
          "base_uri": "https://localhost:8080/"
        }
      },
      "execution_count": 9,
      "outputs": [
        {
          "output_type": "execute_result",
          "data": {
            "text/plain": [
              "tensor([[0., 0., 0., 0.],\n",
              "        [0., 0., 0., 0.],\n",
              "        [0., 0., 0., 0.]])"
            ]
          },
          "metadata": {},
          "execution_count": 9
        }
      ]
    },
    {
      "cell_type": "code",
      "source": [
        "# Create a tensor of all ones\n",
        "ones = torch.ones(3,4)\n",
        "ones"
      ],
      "metadata": {
        "colab": {
          "base_uri": "https://localhost:8080/"
        },
        "id": "T3QIWGSfQ6VA",
        "outputId": "ccb4c0e1-3100-4168-9aae-fc9a6fa27c41"
      },
      "execution_count": 10,
      "outputs": [
        {
          "output_type": "execute_result",
          "data": {
            "text/plain": [
              "tensor([[1., 1., 1., 1.],\n",
              "        [1., 1., 1., 1.],\n",
              "        [1., 1., 1., 1.]])"
            ]
          },
          "metadata": {},
          "execution_count": 10
        }
      ]
    },
    {
      "cell_type": "code",
      "source": [
        "# Default is torch.float32\n",
        "ones.dtype"
      ],
      "metadata": {
        "colab": {
          "base_uri": "https://localhost:8080/"
        },
        "id": "I2CN4Jn0RGxg",
        "outputId": "4cc2cba2-e84c-4f49-b2ba-445d66f37622"
      },
      "execution_count": 11,
      "outputs": [
        {
          "output_type": "execute_result",
          "data": {
            "text/plain": [
              "torch.float32"
            ]
          },
          "metadata": {},
          "execution_count": 11
        }
      ]
    },
    {
      "cell_type": "markdown",
      "source": [
        "## Creating a range of tensors and tensors-like"
      ],
      "metadata": {
        "id": "2KcJJt01RLhK"
      }
    },
    {
      "cell_type": "code",
      "source": [
        "# torch.range()\n",
        "torch_range = torch.arange(0,10,1)\n",
        "torch_range"
      ],
      "metadata": {
        "colab": {
          "base_uri": "https://localhost:8080/"
        },
        "id": "V_rHxSHCRN8N",
        "outputId": "0f7c1d61-d76d-4177-e9bd-9f2163b731ce"
      },
      "execution_count": 12,
      "outputs": [
        {
          "output_type": "execute_result",
          "data": {
            "text/plain": [
              "tensor([0, 1, 2, 3, 4, 5, 6, 7, 8, 9])"
            ]
          },
          "metadata": {},
          "execution_count": 12
        }
      ]
    },
    {
      "cell_type": "code",
      "source": [
        "# Creating tensors like\n",
        "ten_zeros = torch.zeros_like(torch_range)\n",
        "ten_zeros"
      ],
      "metadata": {
        "colab": {
          "base_uri": "https://localhost:8080/"
        },
        "id": "WdcYrZEHRjF7",
        "outputId": "4980e14d-3e25-4ca1-b0de-7333f2015322"
      },
      "execution_count": 13,
      "outputs": [
        {
          "output_type": "execute_result",
          "data": {
            "text/plain": [
              "tensor([0, 0, 0, 0, 0, 0, 0, 0, 0, 0])"
            ]
          },
          "metadata": {},
          "execution_count": 13
        }
      ]
    },
    {
      "cell_type": "markdown",
      "source": [
        "## Tensor Datatypes"
      ],
      "metadata": {
        "id": "v44cc5uSSAEJ"
      }
    },
    {
      "cell_type": "code",
      "source": [
        "float_32_tensor = torch.tensor([[1,2],[3,4]],\n",
        "                               dtype=torch.float32,\n",
        "                               device=None,\n",
        "                               requires_grad=False)\n",
        "float_32_tensor"
      ],
      "metadata": {
        "colab": {
          "base_uri": "https://localhost:8080/"
        },
        "id": "sT-UzCheSMZw",
        "outputId": "44484c9f-172a-4c9b-94d7-14f7abbcecde"
      },
      "execution_count": 14,
      "outputs": [
        {
          "output_type": "execute_result",
          "data": {
            "text/plain": [
              "tensor([[1., 2.],\n",
              "        [3., 4.]])"
            ]
          },
          "metadata": {},
          "execution_count": 14
        }
      ]
    },
    {
      "cell_type": "code",
      "source": [
        "float_16_tensor = torch.tensor([[5,6],[7,8]],\n",
        "                               dtype=torch.float16)"
      ],
      "metadata": {
        "id": "EUksEzZySZVF"
      },
      "execution_count": 15,
      "outputs": []
    },
    {
      "cell_type": "code",
      "source": [
        "float_16_tensor * float_32_tensor"
      ],
      "metadata": {
        "colab": {
          "base_uri": "https://localhost:8080/"
        },
        "id": "fHap0V0FTClk",
        "outputId": "15d97247-0e5e-4f45-e4e0-afe0e2b56392"
      },
      "execution_count": 16,
      "outputs": [
        {
          "output_type": "execute_result",
          "data": {
            "text/plain": [
              "tensor([[ 5., 12.],\n",
              "        [21., 32.]])"
            ]
          },
          "metadata": {},
          "execution_count": 16
        }
      ]
    },
    {
      "cell_type": "code",
      "source": [
        "# Can change datatype using torch.type()\n",
        "float_16_tensor.type(torch.float64)"
      ],
      "metadata": {
        "colab": {
          "base_uri": "https://localhost:8080/"
        },
        "id": "_XqbAEB_TUIX",
        "outputId": "394cfbd3-038c-47c1-d6a6-6082bbf6623f"
      },
      "execution_count": 17,
      "outputs": [
        {
          "output_type": "execute_result",
          "data": {
            "text/plain": [
              "tensor([[5., 6.],\n",
              "        [7., 8.]], dtype=torch.float64)"
            ]
          },
          "metadata": {},
          "execution_count": 17
        }
      ]
    },
    {
      "cell_type": "markdown",
      "source": [
        "## Manipulating tensors\n",
        "\n",
        "- addition\n",
        "- subtraction\n",
        "- multiplication (Hadamard product)\n",
        "- division\n",
        "- matrix multiplication\n"
      ],
      "metadata": {
        "id": "mFB_D5hdTg-m"
      }
    },
    {
      "cell_type": "code",
      "source": [
        "# Create a tensor\n",
        "tensor = torch.tensor([1,2,3,4])\n",
        "print(tensor + 10)\n",
        "print(torch.add(tensor,10))"
      ],
      "metadata": {
        "colab": {
          "base_uri": "https://localhost:8080/"
        },
        "id": "kya6qT7mYnGN",
        "outputId": "3c263573-ada3-462e-9154-1d35917e320c"
      },
      "execution_count": 18,
      "outputs": [
        {
          "output_type": "stream",
          "name": "stdout",
          "text": [
            "tensor([11, 12, 13, 14])\n",
            "tensor([11, 12, 13, 14])\n"
          ]
        }
      ]
    },
    {
      "cell_type": "code",
      "source": [
        "# Multiply tensor by 10\n",
        "print(tensor * 10)\n",
        "print(torch.mul(tensor,10))"
      ],
      "metadata": {
        "colab": {
          "base_uri": "https://localhost:8080/"
        },
        "id": "KkdRnWCuYsDb",
        "outputId": "41aafde2-b585-4e1d-9717-8332d46cddb4"
      },
      "execution_count": 19,
      "outputs": [
        {
          "output_type": "stream",
          "name": "stdout",
          "text": [
            "tensor([10, 20, 30, 40])\n",
            "tensor([10, 20, 30, 40])\n"
          ]
        }
      ]
    },
    {
      "cell_type": "code",
      "source": [
        "# Subtract tensor by 10\n",
        "print(tensor - 10)\n",
        "print(torch.sub(tensor,10))"
      ],
      "metadata": {
        "colab": {
          "base_uri": "https://localhost:8080/"
        },
        "id": "8PRqbj0MYwST",
        "outputId": "ca5331ff-b028-4699-8393-3ae72d1aadfa"
      },
      "execution_count": 20,
      "outputs": [
        {
          "output_type": "stream",
          "name": "stdout",
          "text": [
            "tensor([-9, -8, -7, -6])\n",
            "tensor([-9, -8, -7, -6])\n"
          ]
        }
      ]
    },
    {
      "cell_type": "code",
      "source": [
        "# Divide tensor by 10\n",
        "print(tensor/2)\n",
        "print(torch.div(tensor,2))"
      ],
      "metadata": {
        "colab": {
          "base_uri": "https://localhost:8080/"
        },
        "id": "EJHsm790Y9Q8",
        "outputId": "1ed50eb5-305c-436a-f0fa-28fc7ce308ca"
      },
      "execution_count": 21,
      "outputs": [
        {
          "output_type": "stream",
          "name": "stdout",
          "text": [
            "tensor([0.5000, 1.0000, 1.5000, 2.0000])\n",
            "tensor([0.5000, 1.0000, 1.5000, 2.0000])\n"
          ]
        }
      ]
    },
    {
      "cell_type": "markdown",
      "source": [
        "## Multiplication\n",
        "\n",
        "- element-wise (Hadamard Product)\n",
        "- matrix multiplication (Dot Product if 1D vector)"
      ],
      "metadata": {
        "id": "5g2ptvXvZZuG"
      }
    },
    {
      "cell_type": "code",
      "source": [
        "tensor1 = torch.arange(0,5,2)\n",
        "tensor2 = torch.arange(0,5,2)\n",
        "\n",
        "print(tensor1)\n",
        "print(tensor2)"
      ],
      "metadata": {
        "colab": {
          "base_uri": "https://localhost:8080/"
        },
        "id": "awSqpAnpZmKU",
        "outputId": "01cad796-d11c-4920-8d5d-d8dc7413bfda"
      },
      "execution_count": 22,
      "outputs": [
        {
          "output_type": "stream",
          "name": "stdout",
          "text": [
            "tensor([0, 2, 4])\n",
            "tensor([0, 2, 4])\n"
          ]
        }
      ]
    },
    {
      "cell_type": "code",
      "source": [
        "# Element wise\n",
        "tensor1 * tensor2"
      ],
      "metadata": {
        "colab": {
          "base_uri": "https://localhost:8080/"
        },
        "id": "2iht9TIEaRbk",
        "outputId": "8c1ce375-bf88-45cc-cf8f-8ac06d559d55"
      },
      "execution_count": 23,
      "outputs": [
        {
          "output_type": "execute_result",
          "data": {
            "text/plain": [
              "tensor([ 0,  4, 16])"
            ]
          },
          "metadata": {},
          "execution_count": 23
        }
      ]
    },
    {
      "cell_type": "code",
      "source": [
        "# Matrix multiplication\n",
        "%%time\n",
        "tensor3 = torch.matmul(tensor1,tensor2)\n",
        "tensor3"
      ],
      "metadata": {
        "colab": {
          "base_uri": "https://localhost:8080/"
        },
        "id": "oOBIHOLQa1OL",
        "outputId": "d9ac7840-37d8-4eeb-b543-dcdd0a5f2d7d"
      },
      "execution_count": 24,
      "outputs": [
        {
          "output_type": "stream",
          "name": "stdout",
          "text": [
            "CPU times: user 451 µs, sys: 81 µs, total: 532 µs\n",
            "Wall time: 10 ms\n"
          ]
        },
        {
          "output_type": "execute_result",
          "data": {
            "text/plain": [
              "tensor(20)"
            ]
          },
          "metadata": {},
          "execution_count": 24
        }
      ]
    },
    {
      "cell_type": "code",
      "source": [
        "# Higher shape matrix multiplication\n",
        "t1 = torch.tensor([[1,2],\n",
        "                 [3,4],\n",
        "                 [5,6]])\n",
        "\n",
        "t2 = torch.tensor([[7,8],\n",
        "                 [9,10],\n",
        "                 [11,12]])\n",
        "t2 = t2.T\n",
        "print(t2)\n",
        "torch.matmul(t1,t2)"
      ],
      "metadata": {
        "id": "fNZZzV0JddZf",
        "outputId": "90bad7b4-cfe8-48ff-84c0-42342ff8465c",
        "colab": {
          "base_uri": "https://localhost:8080/"
        }
      },
      "execution_count": 25,
      "outputs": [
        {
          "output_type": "stream",
          "name": "stdout",
          "text": [
            "tensor([[ 7,  9, 11],\n",
            "        [ 8, 10, 12]])\n"
          ]
        },
        {
          "output_type": "execute_result",
          "data": {
            "text/plain": [
              "tensor([[ 23,  29,  35],\n",
              "        [ 53,  67,  81],\n",
              "        [ 83, 105, 127]])"
            ]
          },
          "metadata": {},
          "execution_count": 25
        }
      ]
    },
    {
      "cell_type": "markdown",
      "source": [
        "## Tensor Aggregation"
      ],
      "metadata": {
        "id": "xf1_PRL6hdjz"
      }
    },
    {
      "cell_type": "code",
      "source": [
        "x = torch.arange(0,100,10, dtype=torch.float32)\n",
        "x"
      ],
      "metadata": {
        "id": "NlUQJ7EWhfmv",
        "outputId": "7cd905b0-47c2-4c39-bb6c-e27286be4b24",
        "colab": {
          "base_uri": "https://localhost:8080/"
        }
      },
      "execution_count": 26,
      "outputs": [
        {
          "output_type": "execute_result",
          "data": {
            "text/plain": [
              "tensor([ 0., 10., 20., 30., 40., 50., 60., 70., 80., 90.])"
            ]
          },
          "metadata": {},
          "execution_count": 26
        }
      ]
    },
    {
      "cell_type": "code",
      "source": [
        "x.max(), x.min()"
      ],
      "metadata": {
        "id": "vneMDXGghpJf",
        "outputId": "d3f12f9e-7d2e-4d91-865e-d973147c9fef",
        "colab": {
          "base_uri": "https://localhost:8080/"
        }
      },
      "execution_count": 27,
      "outputs": [
        {
          "output_type": "execute_result",
          "data": {
            "text/plain": [
              "(tensor(90.), tensor(0.))"
            ]
          },
          "metadata": {},
          "execution_count": 27
        }
      ]
    },
    {
      "cell_type": "code",
      "source": [
        "# torch.mean requires float32 to work\n",
        "torch.mean(x)"
      ],
      "metadata": {
        "id": "UUVrF2FThtUj",
        "outputId": "1716dd84-412e-434c-a363-1c475595c481",
        "colab": {
          "base_uri": "https://localhost:8080/"
        }
      },
      "execution_count": 28,
      "outputs": [
        {
          "output_type": "execute_result",
          "data": {
            "text/plain": [
              "tensor(45.)"
            ]
          },
          "metadata": {},
          "execution_count": 28
        }
      ]
    },
    {
      "cell_type": "code",
      "source": [
        "# Find the sum\n",
        "x.sum()"
      ],
      "metadata": {
        "id": "w92d9iBjiKGO",
        "outputId": "271c4353-344a-47e4-88f9-70fa9484253e",
        "colab": {
          "base_uri": "https://localhost:8080/"
        }
      },
      "execution_count": 29,
      "outputs": [
        {
          "output_type": "execute_result",
          "data": {
            "text/plain": [
              "tensor(450.)"
            ]
          },
          "metadata": {},
          "execution_count": 29
        }
      ]
    },
    {
      "cell_type": "markdown",
      "source": [
        "## Find the positional min and max"
      ],
      "metadata": {
        "id": "VBPFoJNxiSmr"
      }
    },
    {
      "cell_type": "code",
      "source": [
        "x"
      ],
      "metadata": {
        "id": "XOL1yX2gicwF",
        "outputId": "9839255d-4fe4-49a6-83dd-cd7e1ca7b789",
        "colab": {
          "base_uri": "https://localhost:8080/"
        }
      },
      "execution_count": 30,
      "outputs": [
        {
          "output_type": "execute_result",
          "data": {
            "text/plain": [
              "tensor([ 0., 10., 20., 30., 40., 50., 60., 70., 80., 90.])"
            ]
          },
          "metadata": {},
          "execution_count": 30
        }
      ]
    },
    {
      "cell_type": "code",
      "source": [
        "# Find the position of tensor with min value\n",
        "x.argmin()"
      ],
      "metadata": {
        "id": "AcvljpdOid1s",
        "outputId": "1e4d7978-8ce2-428b-d49d-228419276b47",
        "colab": {
          "base_uri": "https://localhost:8080/"
        }
      },
      "execution_count": 31,
      "outputs": [
        {
          "output_type": "execute_result",
          "data": {
            "text/plain": [
              "tensor(0)"
            ]
          },
          "metadata": {},
          "execution_count": 31
        }
      ]
    },
    {
      "cell_type": "code",
      "source": [
        "x.argmax()"
      ],
      "metadata": {
        "id": "_KuTEJIyio-L",
        "outputId": "6ebbb95f-2c21-48c4-9021-9cb9713bddc2",
        "colab": {
          "base_uri": "https://localhost:8080/"
        }
      },
      "execution_count": 32,
      "outputs": [
        {
          "output_type": "execute_result",
          "data": {
            "text/plain": [
              "tensor(9)"
            ]
          },
          "metadata": {},
          "execution_count": 32
        }
      ]
    },
    {
      "cell_type": "markdown",
      "source": [
        "## Reshaping, stacking, squeezing, unsqueezing tensors"
      ],
      "metadata": {
        "id": "Yy8bEFACiptk"
      }
    },
    {
      "cell_type": "code",
      "source": [
        "# Make a tensor\n",
        "x = torch.arange(1,10)\n",
        "x,x.shape"
      ],
      "metadata": {
        "id": "rm2vYBg3vJMs",
        "outputId": "7427a21c-4827-4081-b87f-b3b121526b98",
        "colab": {
          "base_uri": "https://localhost:8080/"
        }
      },
      "execution_count": 33,
      "outputs": [
        {
          "output_type": "execute_result",
          "data": {
            "text/plain": [
              "(tensor([1, 2, 3, 4, 5, 6, 7, 8, 9]), torch.Size([9]))"
            ]
          },
          "metadata": {},
          "execution_count": 33
        }
      ]
    },
    {
      "cell_type": "code",
      "source": [
        "# Add an extra dimension\n",
        "x_reshape = x.reshape(1,9)\n",
        "x_reshape, x_reshape.shape"
      ],
      "metadata": {
        "id": "qbovyMjuv9kt",
        "outputId": "4d4b9532-9c69-486e-a5c4-28ac4cd82ea5",
        "colab": {
          "base_uri": "https://localhost:8080/"
        }
      },
      "execution_count": 34,
      "outputs": [
        {
          "output_type": "execute_result",
          "data": {
            "text/plain": [
              "(tensor([[1, 2, 3, 4, 5, 6, 7, 8, 9]]), torch.Size([1, 9]))"
            ]
          },
          "metadata": {},
          "execution_count": 34
        }
      ]
    },
    {
      "cell_type": "code",
      "source": [
        "# Change the view\n",
        "z = x.view(1,9)\n",
        "z,z.shape"
      ],
      "metadata": {
        "id": "O93aqUpVwb7V",
        "outputId": "d220c5b9-b457-4dda-f2f9-5ae7be44fe17",
        "colab": {
          "base_uri": "https://localhost:8080/"
        }
      },
      "execution_count": 35,
      "outputs": [
        {
          "output_type": "execute_result",
          "data": {
            "text/plain": [
              "(tensor([[1, 2, 3, 4, 5, 6, 7, 8, 9]]), torch.Size([1, 9]))"
            ]
          },
          "metadata": {},
          "execution_count": 35
        }
      ]
    },
    {
      "cell_type": "code",
      "source": [
        "# Changing z changes x (view of a tensor shares same memeory as original)\n",
        "z[:,0] = 5\n",
        "z,x"
      ],
      "metadata": {
        "id": "c0zwDA6Pw8wj",
        "outputId": "4663d230-1cb9-43fb-9745-21e2ad0bfed6",
        "colab": {
          "base_uri": "https://localhost:8080/"
        }
      },
      "execution_count": 36,
      "outputs": [
        {
          "output_type": "execute_result",
          "data": {
            "text/plain": [
              "(tensor([[5, 2, 3, 4, 5, 6, 7, 8, 9]]), tensor([5, 2, 3, 4, 5, 6, 7, 8, 9]))"
            ]
          },
          "metadata": {},
          "execution_count": 36
        }
      ]
    },
    {
      "cell_type": "code",
      "source": [
        "# Stack tensors on top of each other using torch.stack\n",
        "x_stack = torch.stack([x,x,x,x], dim=0)\n",
        "x_stack"
      ],
      "metadata": {
        "id": "YqV9Oi_OxF7z",
        "outputId": "031d6f31-cb8c-414f-8ceb-e0f3e142e1d5",
        "colab": {
          "base_uri": "https://localhost:8080/"
        }
      },
      "execution_count": 37,
      "outputs": [
        {
          "output_type": "execute_result",
          "data": {
            "text/plain": [
              "tensor([[5, 2, 3, 4, 5, 6, 7, 8, 9],\n",
              "        [5, 2, 3, 4, 5, 6, 7, 8, 9],\n",
              "        [5, 2, 3, 4, 5, 6, 7, 8, 9],\n",
              "        [5, 2, 3, 4, 5, 6, 7, 8, 9]])"
            ]
          },
          "metadata": {},
          "execution_count": 37
        }
      ]
    },
    {
      "cell_type": "code",
      "source": [
        "# torch.squeeze() - remove all 1 dimensions\n",
        "x = torch.rand(1,3,4,1)\n",
        "print(x,x.shape)\n",
        "x_squeeze = x.squeeze()\n",
        "print(x_squeeze,x_squeeze.shape)"
      ],
      "metadata": {
        "id": "EVeCe0YHzF3W",
        "outputId": "21fc1048-2c56-4911-b2f1-35a6e36d79aa",
        "colab": {
          "base_uri": "https://localhost:8080/"
        }
      },
      "execution_count": 38,
      "outputs": [
        {
          "output_type": "stream",
          "name": "stdout",
          "text": [
            "tensor([[[[0.9023],\n",
            "          [0.7121],\n",
            "          [0.4907],\n",
            "          [0.4566]],\n",
            "\n",
            "         [[0.6627],\n",
            "          [0.2760],\n",
            "          [0.3773],\n",
            "          [0.3572]],\n",
            "\n",
            "         [[0.4890],\n",
            "          [0.6916],\n",
            "          [0.6392],\n",
            "          [0.3607]]]]) torch.Size([1, 3, 4, 1])\n",
            "tensor([[0.9023, 0.7121, 0.4907, 0.4566],\n",
            "        [0.6627, 0.2760, 0.3773, 0.3572],\n",
            "        [0.4890, 0.6916, 0.6392, 0.3607]]) torch.Size([3, 4])\n"
          ]
        }
      ]
    },
    {
      "cell_type": "code",
      "source": [
        "# torch.unsqueeze() - add dimension of 1, dim = index of added 1 dimension\n",
        "x_unsqueeze = x_squeeze.unsqueeze(dim=2)\n",
        "x_unsqueeze.shape, x_unsqueeze"
      ],
      "metadata": {
        "id": "OfnVh-SYzdKZ",
        "outputId": "c63771a0-1d6d-40ef-d4db-c743230c4020",
        "colab": {
          "base_uri": "https://localhost:8080/"
        }
      },
      "execution_count": 39,
      "outputs": [
        {
          "output_type": "execute_result",
          "data": {
            "text/plain": [
              "(torch.Size([3, 4, 1]),\n",
              " tensor([[[0.9023],\n",
              "          [0.7121],\n",
              "          [0.4907],\n",
              "          [0.4566]],\n",
              " \n",
              "         [[0.6627],\n",
              "          [0.2760],\n",
              "          [0.3773],\n",
              "          [0.3572]],\n",
              " \n",
              "         [[0.4890],\n",
              "          [0.6916],\n",
              "          [0.6392],\n",
              "          [0.3607]]]))"
            ]
          },
          "metadata": {},
          "execution_count": 39
        }
      ]
    },
    {
      "cell_type": "code",
      "source": [
        "# torch.permute() - change the order of parameters, feed in array, then desired index\n",
        "x_orig = torch.rand(224,224,3)\n",
        "print(x_orig.shape)\n",
        "\n",
        "# rearrange the axes\n",
        "x_permute = x_orig.permute(2,0,1)\n",
        "print(x_permute.shape)"
      ],
      "metadata": {
        "id": "mMpouWBG1AIl",
        "outputId": "5b292f36-326a-42d9-b95a-cb6289b33b37",
        "colab": {
          "base_uri": "https://localhost:8080/"
        }
      },
      "execution_count": 40,
      "outputs": [
        {
          "output_type": "stream",
          "name": "stdout",
          "text": [
            "torch.Size([224, 224, 3])\n",
            "torch.Size([3, 224, 224])\n"
          ]
        }
      ]
    },
    {
      "cell_type": "code",
      "source": [
        "# permute shares same view as orig\n",
        "x_orig[0,0,0] = 999\n",
        "x_orig[0,0,0],x_permute[0,0,0]"
      ],
      "metadata": {
        "id": "DX3Tz49R1OTW",
        "outputId": "a4fab430-ba19-44b9-9dc8-cce33b348bf0",
        "colab": {
          "base_uri": "https://localhost:8080/"
        }
      },
      "execution_count": 41,
      "outputs": [
        {
          "output_type": "execute_result",
          "data": {
            "text/plain": [
              "(tensor(999.), tensor(999.))"
            ]
          },
          "metadata": {},
          "execution_count": 41
        }
      ]
    },
    {
      "cell_type": "markdown",
      "source": [
        "##Indexing with Pytorch"
      ],
      "metadata": {
        "id": "GpHEsS7j2AQk"
      }
    },
    {
      "cell_type": "code",
      "source": [
        "x = torch.arange(1,11).reshape(1,2,5)\n",
        "x"
      ],
      "metadata": {
        "id": "hNNFnm_o2Cw0",
        "outputId": "0e980ba3-ec63-41b5-b5b9-20f79cc07aed",
        "colab": {
          "base_uri": "https://localhost:8080/"
        }
      },
      "execution_count": 42,
      "outputs": [
        {
          "output_type": "execute_result",
          "data": {
            "text/plain": [
              "tensor([[[ 1,  2,  3,  4,  5],\n",
              "         [ 6,  7,  8,  9, 10]]])"
            ]
          },
          "metadata": {},
          "execution_count": 42
        }
      ]
    },
    {
      "cell_type": "code",
      "source": [
        "# commas depend on the shape of your tensor, it goes by dimension in order\n",
        "# from 0th dimension to (n-1)th dimension where n is len(tensor)\n",
        "x[:,1,0:2]"
      ],
      "metadata": {
        "id": "lwrfkEeT215c",
        "outputId": "997a5172-73eb-4b50-a81b-eeaa5fe86beb",
        "colab": {
          "base_uri": "https://localhost:8080/"
        }
      },
      "execution_count": 43,
      "outputs": [
        {
          "output_type": "execute_result",
          "data": {
            "text/plain": [
              "tensor([[6, 7]])"
            ]
          },
          "metadata": {},
          "execution_count": 43
        }
      ]
    },
    {
      "cell_type": "code",
      "source": [
        "# if doing x[0][0][0], could also do x[0,0,0]\n",
        "x[0][0][0],x[0,0,0]"
      ],
      "metadata": {
        "colab": {
          "base_uri": "https://localhost:8080/"
        },
        "id": "gZMTQn8zlnHp",
        "outputId": "8ccf7f52-fc9e-43e5-ac3f-508a1fcab170"
      },
      "execution_count": 44,
      "outputs": [
        {
          "output_type": "execute_result",
          "data": {
            "text/plain": [
              "(tensor(1), tensor(1))"
            ]
          },
          "metadata": {},
          "execution_count": 44
        }
      ]
    },
    {
      "cell_type": "markdown",
      "source": [
        "## PyTorch tensors & NumPy\n",
        "\n",
        "NumPy is used for numerical computations,\n",
        "can convert from numpy to torch and vice versa"
      ],
      "metadata": {
        "id": "SM7DqlJOlyTM"
      }
    },
    {
      "cell_type": "code",
      "source": [
        "# NumPy array to tensor, numpy default is float64 while torch is float32\n",
        "array = np.arange(1.0,8.0)\n",
        "tensor = torch.from_numpy(array).type(torch.float32)\n",
        "tensor"
      ],
      "metadata": {
        "colab": {
          "base_uri": "https://localhost:8080/"
        },
        "id": "QznWw0DOmZCI",
        "outputId": "2210ce21-69c0-44bc-be83-0d554d989da4"
      },
      "execution_count": 45,
      "outputs": [
        {
          "output_type": "execute_result",
          "data": {
            "text/plain": [
              "tensor([1., 2., 3., 4., 5., 6., 7.])"
            ]
          },
          "metadata": {},
          "execution_count": 45
        }
      ]
    },
    {
      "cell_type": "code",
      "source": [
        "tensor.dtype"
      ],
      "metadata": {
        "colab": {
          "base_uri": "https://localhost:8080/"
        },
        "id": "d9YBlC8Ym1Lx",
        "outputId": "e58066db-7ff8-4d2f-8f16-0ebaf5f5ef22"
      },
      "execution_count": 46,
      "outputs": [
        {
          "output_type": "execute_result",
          "data": {
            "text/plain": [
              "torch.float32"
            ]
          },
          "metadata": {},
          "execution_count": 46
        }
      ]
    },
    {
      "cell_type": "code",
      "source": [
        "# new tensor in memory when using from_numpy\n",
        "array = array + 1\n",
        "array,tensor"
      ],
      "metadata": {
        "colab": {
          "base_uri": "https://localhost:8080/"
        },
        "id": "xbQDuHOzm5Wy",
        "outputId": "6836f35d-83dc-4ab2-f69e-9bcf757c7de6"
      },
      "execution_count": 47,
      "outputs": [
        {
          "output_type": "execute_result",
          "data": {
            "text/plain": [
              "(array([2., 3., 4., 5., 6., 7., 8.]), tensor([1., 2., 3., 4., 5., 6., 7.]))"
            ]
          },
          "metadata": {},
          "execution_count": 47
        }
      ]
    },
    {
      "cell_type": "code",
      "source": [
        "# Tensor to NumPy array\n",
        "tensor = torch.zeros(9,4)\n",
        "numpy_tensor = tensor.numpy()\n",
        "tensor,numpy_tensor"
      ],
      "metadata": {
        "colab": {
          "base_uri": "https://localhost:8080/"
        },
        "id": "yaQT0gZWnLCl",
        "outputId": "703011be-04e5-426c-829f-d24824b2578c"
      },
      "execution_count": 48,
      "outputs": [
        {
          "output_type": "execute_result",
          "data": {
            "text/plain": [
              "(tensor([[0., 0., 0., 0.],\n",
              "         [0., 0., 0., 0.],\n",
              "         [0., 0., 0., 0.],\n",
              "         [0., 0., 0., 0.],\n",
              "         [0., 0., 0., 0.],\n",
              "         [0., 0., 0., 0.],\n",
              "         [0., 0., 0., 0.],\n",
              "         [0., 0., 0., 0.],\n",
              "         [0., 0., 0., 0.]]),\n",
              " array([[0., 0., 0., 0.],\n",
              "        [0., 0., 0., 0.],\n",
              "        [0., 0., 0., 0.],\n",
              "        [0., 0., 0., 0.],\n",
              "        [0., 0., 0., 0.],\n",
              "        [0., 0., 0., 0.],\n",
              "        [0., 0., 0., 0.],\n",
              "        [0., 0., 0., 0.],\n",
              "        [0., 0., 0., 0.]], dtype=float32))"
            ]
          },
          "metadata": {},
          "execution_count": 48
        }
      ]
    },
    {
      "cell_type": "code",
      "source": [
        "# new numpy array also has new memory\n",
        "tensor = tensor + 1\n",
        "tensor,numpy_tensor"
      ],
      "metadata": {
        "colab": {
          "base_uri": "https://localhost:8080/"
        },
        "id": "bX27k5wfnYho",
        "outputId": "859427d9-a030-4e03-8ad8-07c2922ca218"
      },
      "execution_count": 49,
      "outputs": [
        {
          "output_type": "execute_result",
          "data": {
            "text/plain": [
              "(tensor([[1., 1., 1., 1.],\n",
              "         [1., 1., 1., 1.],\n",
              "         [1., 1., 1., 1.],\n",
              "         [1., 1., 1., 1.],\n",
              "         [1., 1., 1., 1.],\n",
              "         [1., 1., 1., 1.],\n",
              "         [1., 1., 1., 1.],\n",
              "         [1., 1., 1., 1.],\n",
              "         [1., 1., 1., 1.]]),\n",
              " array([[0., 0., 0., 0.],\n",
              "        [0., 0., 0., 0.],\n",
              "        [0., 0., 0., 0.],\n",
              "        [0., 0., 0., 0.],\n",
              "        [0., 0., 0., 0.],\n",
              "        [0., 0., 0., 0.],\n",
              "        [0., 0., 0., 0.],\n",
              "        [0., 0., 0., 0.],\n",
              "        [0., 0., 0., 0.]], dtype=float32))"
            ]
          },
          "metadata": {},
          "execution_count": 49
        }
      ]
    },
    {
      "cell_type": "markdown",
      "source": [
        "## Reproducability (trying to take random out of random)\n"
      ],
      "metadata": {
        "id": "hjOEZFlBntMS"
      }
    },
    {
      "cell_type": "code",
      "source": [
        "t1 = torch.rand(3,3)\n",
        "t2 = torch.rand(3,3)\n",
        "t1,t2"
      ],
      "metadata": {
        "colab": {
          "base_uri": "https://localhost:8080/"
        },
        "id": "sbmAnQbjn0uK",
        "outputId": "5732bd84-3dcd-4df0-e7a9-ea3e9e9ffa3a"
      },
      "execution_count": 50,
      "outputs": [
        {
          "output_type": "execute_result",
          "data": {
            "text/plain": [
              "(tensor([[0.3778, 0.1776, 0.7534],\n",
              "         [0.1739, 0.7489, 0.1740],\n",
              "         [0.4521, 0.9751, 0.3109]]),\n",
              " tensor([[0.8190, 0.3062, 0.0563],\n",
              "         [0.3970, 0.1468, 0.1172],\n",
              "         [0.4206, 0.7789, 0.1872]]))"
            ]
          },
          "metadata": {},
          "execution_count": 50
        }
      ]
    },
    {
      "cell_type": "code",
      "source": [
        "# Set random seed\n",
        "RAND_SEED = 42\n",
        "torch.manual_seed(RAND_SEED)\n",
        "t1 = torch.rand(3,3)\n",
        "\n",
        "torch.manual_seed(RAND_SEED)\n",
        "t2 = torch.rand(3,3)\n",
        "t1,t2"
      ],
      "metadata": {
        "colab": {
          "base_uri": "https://localhost:8080/"
        },
        "id": "iUQcihAcog0Z",
        "outputId": "348ce5d9-d211-471b-f500-dd22e855a2a3"
      },
      "execution_count": 51,
      "outputs": [
        {
          "output_type": "execute_result",
          "data": {
            "text/plain": [
              "(tensor([[0.8823, 0.9150, 0.3829],\n",
              "         [0.9593, 0.3904, 0.6009],\n",
              "         [0.2566, 0.7936, 0.9408]]),\n",
              " tensor([[0.8823, 0.9150, 0.3829],\n",
              "         [0.9593, 0.3904, 0.6009],\n",
              "         [0.2566, 0.7936, 0.9408]]))"
            ]
          },
          "metadata": {},
          "execution_count": 51
        }
      ]
    },
    {
      "cell_type": "markdown",
      "source": [
        "## Running tensors and PyTorch objects on GPU\n",
        "gpu makes computational calculations faster using CUDA and NVIDIA hardware and pytorch behind the scenes"
      ],
      "metadata": {
        "id": "cOOgmghypc-b"
      }
    },
    {
      "cell_type": "code",
      "source": [
        "# Check if GPU is available\n",
        "torch.cuda.is_available()"
      ],
      "metadata": {
        "colab": {
          "base_uri": "https://localhost:8080/"
        },
        "id": "RE4PfOwgp2iM",
        "outputId": "d4a1a20c-2fea-4df6-b2e5-e08bc4ea49f8"
      },
      "execution_count": 52,
      "outputs": [
        {
          "output_type": "execute_result",
          "data": {
            "text/plain": [
              "True"
            ]
          },
          "metadata": {},
          "execution_count": 52
        }
      ]
    },
    {
      "cell_type": "code",
      "source": [
        "# Setup device agnostic code\n",
        "device = \"cuda\" if torch.cuda.is_available() else \"cpu\"\n",
        "device"
      ],
      "metadata": {
        "id": "Y6l7ssQuqpOc",
        "outputId": "3e775161-55c8-47c8-8d10-0b4bbebda21c",
        "colab": {
          "base_uri": "https://localhost:8080/",
          "height": 36
        }
      },
      "execution_count": 53,
      "outputs": [
        {
          "output_type": "execute_result",
          "data": {
            "text/plain": [
              "'cuda'"
            ],
            "application/vnd.google.colaboratory.intrinsic+json": {
              "type": "string"
            }
          },
          "metadata": {},
          "execution_count": 53
        }
      ]
    },
    {
      "cell_type": "code",
      "source": [
        "# Check number of devices available\n",
        "torch.cuda.device_count()"
      ],
      "metadata": {
        "id": "oqT3P-lRq0Cg",
        "outputId": "8c31d396-72f9-42d9-a0fa-ccd11b5f0ada",
        "colab": {
          "base_uri": "https://localhost:8080/"
        }
      },
      "execution_count": 54,
      "outputs": [
        {
          "output_type": "execute_result",
          "data": {
            "text/plain": [
              "1"
            ]
          },
          "metadata": {},
          "execution_count": 54
        }
      ]
    },
    {
      "cell_type": "markdown",
      "source": [
        "## Putting teneosr and models on the GPU"
      ],
      "metadata": {
        "id": "r5pJwT2pq4DW"
      }
    },
    {
      "cell_type": "code",
      "source": [
        "# Create a tensor (default on the CPU)(\n",
        "tensor = torch.tensor([1,2,3])\n",
        "\n",
        "# Tensor on GPU?\n",
        "tensor, tensor.device"
      ],
      "metadata": {
        "id": "40n7pkKMrY-6",
        "outputId": "0170e4c5-1183-4ffc-fcf3-8ad9abcd5462",
        "colab": {
          "base_uri": "https://localhost:8080/"
        }
      },
      "execution_count": 55,
      "outputs": [
        {
          "output_type": "execute_result",
          "data": {
            "text/plain": [
              "(tensor([1, 2, 3]), device(type='cpu'))"
            ]
          },
          "metadata": {},
          "execution_count": 55
        }
      ]
    },
    {
      "cell_type": "code",
      "source": [
        "tensor_GPU = tensor.to(device)\n",
        "tensor_GPU"
      ],
      "metadata": {
        "id": "ZcZ_sWPFrpQh",
        "outputId": "a23c65ed-630d-4866-d6c8-b2ae1b1fe34d",
        "colab": {
          "base_uri": "https://localhost:8080/"
        }
      },
      "execution_count": 56,
      "outputs": [
        {
          "output_type": "execute_result",
          "data": {
            "text/plain": [
              "tensor([1, 2, 3], device='cuda:0')"
            ]
          },
          "metadata": {},
          "execution_count": 56
        }
      ]
    },
    {
      "cell_type": "code",
      "source": [
        "tensor_CPU = tensor.to(\"cpu\")\n",
        "tensor_CPU, tensor_CPU.device"
      ],
      "metadata": {
        "id": "D7EySrZ6sAm0",
        "outputId": "f80a126d-7ab1-4123-fbfe-fbaa1d077e10",
        "colab": {
          "base_uri": "https://localhost:8080/"
        }
      },
      "execution_count": 58,
      "outputs": [
        {
          "output_type": "execute_result",
          "data": {
            "text/plain": [
              "(tensor([1, 2, 3]), device(type='cpu'))"
            ]
          },
          "metadata": {},
          "execution_count": 58
        }
      ]
    },
    {
      "cell_type": "markdown",
      "source": [
        "## Moving tensor back to CPU"
      ],
      "metadata": {
        "id": "8Zz-qlTRsKB7"
      }
    },
    {
      "cell_type": "code",
      "source": [
        "# Cant use numpy when on GPU, so must convert to CPU first\n",
        "tensor_GPU.cpu().numpy(), tensor_GPU"
      ],
      "metadata": {
        "id": "5sEHDe_UsMRj",
        "outputId": "5f2244fb-844c-48d0-d12c-b05d82a64c1c",
        "colab": {
          "base_uri": "https://localhost:8080/"
        }
      },
      "execution_count": 61,
      "outputs": [
        {
          "output_type": "execute_result",
          "data": {
            "text/plain": [
              "(array([1, 2, 3]), tensor([1, 2, 3], device='cuda:0'))"
            ]
          },
          "metadata": {},
          "execution_count": 61
        }
      ]
    }
  ]
}