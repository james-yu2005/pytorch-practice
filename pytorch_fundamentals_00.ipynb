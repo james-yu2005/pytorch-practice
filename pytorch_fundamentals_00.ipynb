{
  "nbformat": 4,
  "nbformat_minor": 0,
  "metadata": {
    "colab": {
      "provenance": [],
      "authorship_tag": "ABX9TyNskIhRJ1ajEF8P8l24X25S",
      "include_colab_link": true
    },
    "kernelspec": {
      "name": "python3",
      "display_name": "Python 3"
    },
    "language_info": {
      "name": "python"
    }
  },
  "cells": [
    {
      "cell_type": "markdown",
      "metadata": {
        "id": "view-in-github",
        "colab_type": "text"
      },
      "source": [
        "<a href=\"https://colab.research.google.com/github/james-yu2005/pytorch-practice/blob/main/pytorch_fundamentals_00.ipynb\" target=\"_parent\"><img src=\"https://colab.research.google.com/assets/colab-badge.svg\" alt=\"Open In Colab\"/></a>"
      ]
    },
    {
      "cell_type": "code",
      "execution_count": 1,
      "metadata": {
        "colab": {
          "base_uri": "https://localhost:8080/"
        },
        "id": "hyUJo3wRVoUZ",
        "outputId": "a0a5c2ab-ab5f-4d19-c20a-dbf1fce84a4b"
      },
      "outputs": [
        {
          "output_type": "stream",
          "name": "stdout",
          "text": [
            "2.8.0+cu126\n"
          ]
        }
      ],
      "source": [
        "import torch\n",
        "import pandas as pd\n",
        "import matplotlib.pyplot as plt\n",
        "import numpy as np\n",
        "print(torch.__version__)"
      ]
    },
    {
      "cell_type": "markdown",
      "source": [
        "## Intro to Tensors\n",
        "\n",
        "PyTorch tensors are created using 'torch.Tensor()'\n",
        "\n",
        "Matrix and Tensors are often uppercase while vectors and scalars are lowercase"
      ],
      "metadata": {
        "id": "AZdjyVY2WqQh"
      }
    },
    {
      "cell_type": "code",
      "source": [
        "# Create a tensor using torch.tensor(), can use dtype to specify datatype, can specify that data is stored on gpu which runs faster\n",
        "scalar = torch.tensor(190)\n",
        "print(scalar)\n",
        "\n",
        "vector = torch.tensor([19,5])\n",
        "print(vector)\n",
        "\n",
        "matrix = torch.tensor([[1.,2.],\n",
        "                      [3.,4.]], dtype=torch.float16)\n",
        "print(matrix)\n",
        "\n",
        "tensor = torch.tensor([[[1,2,3],\n",
        "                        [3,6,9],\n",
        "                        [1,7,9]]], dtype=torch.int32)\n",
        "print(tensor)"
      ],
      "metadata": {
        "colab": {
          "base_uri": "https://localhost:8080/"
        },
        "id": "vc-uHAtlW2Zy",
        "outputId": "4bbb2186-01e5-4bb8-cac3-1f24ba22c978"
      },
      "execution_count": 2,
      "outputs": [
        {
          "output_type": "stream",
          "name": "stdout",
          "text": [
            "tensor(190)\n",
            "tensor([19,  5])\n",
            "tensor([[1., 2.],\n",
            "        [3., 4.]], dtype=torch.float16)\n",
            "tensor([[[1, 2, 3],\n",
            "         [3, 6, 9],\n",
            "         [1, 7, 9]]], dtype=torch.int32)\n"
          ]
        }
      ]
    },
    {
      "cell_type": "code",
      "source": [
        "# Can figure out dimensions using torch.tensor.ndim and shape using torch.tensor.shape\n",
        "print(scalar.ndim)\n",
        "print(scalar.shape)\n",
        "\n",
        "print(tensor.ndim)\n",
        "print(tensor.shape)"
      ],
      "metadata": {
        "colab": {
          "base_uri": "https://localhost:8080/"
        },
        "id": "L8xB1pKyXGce",
        "outputId": "e1a06388-9e04-48cb-cfad-40aee70bc83d"
      },
      "execution_count": 3,
      "outputs": [
        {
          "output_type": "stream",
          "name": "stdout",
          "text": [
            "0\n",
            "torch.Size([])\n",
            "3\n",
            "torch.Size([1, 3, 3])\n"
          ]
        }
      ]
    },
    {
      "cell_type": "code",
      "source": [
        "# Get tensor back as python object using torch.tensor.item() --> only works on scalar\n",
        "print(scalar.item())"
      ],
      "metadata": {
        "colab": {
          "base_uri": "https://localhost:8080/"
        },
        "id": "kTxQPTj7XSr6",
        "outputId": "15a81ff8-ec95-4a9b-e8c5-8c262c93c9ef"
      },
      "execution_count": 4,
      "outputs": [
        {
          "output_type": "stream",
          "name": "stdout",
          "text": [
            "190\n"
          ]
        }
      ]
    },
    {
      "cell_type": "markdown",
      "source": [
        "## Random Tensors\n",
        "\n",
        "Neural networks learn start with tensors with random numbers and adjust based on the data to better represent them as the model gets trained"
      ],
      "metadata": {
        "id": "ajy8Ck5ZOrDi"
      }
    },
    {
      "cell_type": "code",
      "source": [
        "# Random tensor of size (3,4)\n",
        "\n",
        "rand_tensor = torch.rand(3,4, dtype=torch.float16)\n",
        "rand_tensor"
      ],
      "metadata": {
        "id": "azZ-vWRHOyEc",
        "outputId": "7ed76022-be71-40c3-9287-6a365a7d1fc9",
        "colab": {
          "base_uri": "https://localhost:8080/"
        }
      },
      "execution_count": 5,
      "outputs": [
        {
          "output_type": "execute_result",
          "data": {
            "text/plain": [
              "tensor([[0.8374, 0.9321, 0.8921, 0.6680],\n",
              "        [0.6426, 0.1582, 0.2178, 0.8599],\n",
              "        [0.0356, 0.9609, 0.7749, 0.4819]], dtype=torch.float16)"
            ]
          },
          "metadata": {},
          "execution_count": 5
        }
      ]
    },
    {
      "cell_type": "code",
      "source": [
        "print(rand_tensor.ndim)\n",
        "print(rand_tensor.shape)"
      ],
      "metadata": {
        "id": "7S6mxvu6PTJO",
        "outputId": "47903aa2-ec2a-4883-c15d-7354d05fe3cc",
        "colab": {
          "base_uri": "https://localhost:8080/"
        }
      },
      "execution_count": 6,
      "outputs": [
        {
          "output_type": "stream",
          "name": "stdout",
          "text": [
            "2\n",
            "torch.Size([3, 4])\n"
          ]
        }
      ]
    },
    {
      "cell_type": "code",
      "source": [
        "image_size_tensor = torch.rand(size=(224,224,3))\n",
        "image_size_tensor.shape"
      ],
      "metadata": {
        "id": "066R6JAHPi3L",
        "outputId": "94a8b686-2cb1-440a-d1ad-8c5874090515",
        "colab": {
          "base_uri": "https://localhost:8080/"
        }
      },
      "execution_count": 7,
      "outputs": [
        {
          "output_type": "execute_result",
          "data": {
            "text/plain": [
              "torch.Size([224, 224, 3])"
            ]
          },
          "metadata": {},
          "execution_count": 7
        }
      ]
    },
    {
      "cell_type": "markdown",
      "source": [
        "## Zeros and Ones"
      ],
      "metadata": {
        "id": "-TNmwTi8QFgk"
      }
    },
    {
      "cell_type": "code",
      "source": [
        "# Create a tensor of all zeroes\n",
        "zeros = torch.zeros(3,4)\n",
        "zeros"
      ],
      "metadata": {
        "id": "3aWvEcF-QG5p",
        "outputId": "a40b3b36-92d8-4ac5-9390-c859f9fd70ef",
        "colab": {
          "base_uri": "https://localhost:8080/"
        }
      },
      "execution_count": 8,
      "outputs": [
        {
          "output_type": "execute_result",
          "data": {
            "text/plain": [
              "tensor([[0., 0., 0., 0.],\n",
              "        [0., 0., 0., 0.],\n",
              "        [0., 0., 0., 0.]])"
            ]
          },
          "metadata": {},
          "execution_count": 8
        }
      ]
    },
    {
      "cell_type": "code",
      "source": [
        "# Note that this is Hadamard Product and not matrix multiplication\n",
        "\n",
        "zeros*rand_tensor"
      ],
      "metadata": {
        "id": "j2IK8SvQQami",
        "outputId": "9f82432a-99e6-441f-ec8c-b12523c40cc5",
        "colab": {
          "base_uri": "https://localhost:8080/"
        }
      },
      "execution_count": 9,
      "outputs": [
        {
          "output_type": "execute_result",
          "data": {
            "text/plain": [
              "tensor([[0., 0., 0., 0.],\n",
              "        [0., 0., 0., 0.],\n",
              "        [0., 0., 0., 0.]])"
            ]
          },
          "metadata": {},
          "execution_count": 9
        }
      ]
    },
    {
      "cell_type": "code",
      "source": [
        "# Create a tensor of all ones\n",
        "ones = torch.ones(3,4)\n",
        "ones"
      ],
      "metadata": {
        "colab": {
          "base_uri": "https://localhost:8080/"
        },
        "id": "T3QIWGSfQ6VA",
        "outputId": "79855f6b-321e-4d4c-b121-d7a35131e43a"
      },
      "execution_count": 10,
      "outputs": [
        {
          "output_type": "execute_result",
          "data": {
            "text/plain": [
              "tensor([[1., 1., 1., 1.],\n",
              "        [1., 1., 1., 1.],\n",
              "        [1., 1., 1., 1.]])"
            ]
          },
          "metadata": {},
          "execution_count": 10
        }
      ]
    },
    {
      "cell_type": "code",
      "source": [
        "# Default is torch.float32\n",
        "ones.dtype"
      ],
      "metadata": {
        "colab": {
          "base_uri": "https://localhost:8080/"
        },
        "id": "I2CN4Jn0RGxg",
        "outputId": "0ef7bed5-cba9-4509-a00a-028436a747f7"
      },
      "execution_count": 11,
      "outputs": [
        {
          "output_type": "execute_result",
          "data": {
            "text/plain": [
              "torch.float32"
            ]
          },
          "metadata": {},
          "execution_count": 11
        }
      ]
    },
    {
      "cell_type": "markdown",
      "source": [
        "## Creating a range of tensors and tensors-like"
      ],
      "metadata": {
        "id": "2KcJJt01RLhK"
      }
    },
    {
      "cell_type": "code",
      "source": [
        "# torch.range()\n",
        "torch_range = torch.arange(0,10,1)\n",
        "torch_range"
      ],
      "metadata": {
        "colab": {
          "base_uri": "https://localhost:8080/"
        },
        "id": "V_rHxSHCRN8N",
        "outputId": "5b21455c-edcd-4b18-f8ea-228c45bb71ca"
      },
      "execution_count": 12,
      "outputs": [
        {
          "output_type": "execute_result",
          "data": {
            "text/plain": [
              "tensor([0, 1, 2, 3, 4, 5, 6, 7, 8, 9])"
            ]
          },
          "metadata": {},
          "execution_count": 12
        }
      ]
    },
    {
      "cell_type": "code",
      "source": [
        "# Creating tensors like\n",
        "ten_zeros = torch.zeros_like(torch_range)\n",
        "ten_zeros"
      ],
      "metadata": {
        "colab": {
          "base_uri": "https://localhost:8080/"
        },
        "id": "WdcYrZEHRjF7",
        "outputId": "5155adde-c0ef-4972-c20c-7f98cfb20516"
      },
      "execution_count": 13,
      "outputs": [
        {
          "output_type": "execute_result",
          "data": {
            "text/plain": [
              "tensor([0, 0, 0, 0, 0, 0, 0, 0, 0, 0])"
            ]
          },
          "metadata": {},
          "execution_count": 13
        }
      ]
    },
    {
      "cell_type": "markdown",
      "source": [
        "## Tensor Datatypes"
      ],
      "metadata": {
        "id": "v44cc5uSSAEJ"
      }
    },
    {
      "cell_type": "code",
      "source": [
        "float_32_tensor = torch.tensor([[1,2],[3,4]],\n",
        "                               dtype=torch.float32,\n",
        "                               device=None,\n",
        "                               requires_grad=False)\n",
        "float_32_tensor"
      ],
      "metadata": {
        "colab": {
          "base_uri": "https://localhost:8080/"
        },
        "id": "sT-UzCheSMZw",
        "outputId": "3f85bba0-fa53-49b2-b966-5d36c49c7d24"
      },
      "execution_count": 14,
      "outputs": [
        {
          "output_type": "execute_result",
          "data": {
            "text/plain": [
              "tensor([[1., 2.],\n",
              "        [3., 4.]])"
            ]
          },
          "metadata": {},
          "execution_count": 14
        }
      ]
    },
    {
      "cell_type": "code",
      "source": [
        "float_16_tensor = torch.tensor([[5,6],[7,8]],\n",
        "                               dtype=torch.float16)"
      ],
      "metadata": {
        "id": "EUksEzZySZVF"
      },
      "execution_count": 15,
      "outputs": []
    },
    {
      "cell_type": "code",
      "source": [
        "float_16_tensor * float_32_tensor"
      ],
      "metadata": {
        "colab": {
          "base_uri": "https://localhost:8080/"
        },
        "id": "fHap0V0FTClk",
        "outputId": "015203ff-21f2-4a7a-cd0b-57635cf80308"
      },
      "execution_count": 16,
      "outputs": [
        {
          "output_type": "execute_result",
          "data": {
            "text/plain": [
              "tensor([[ 5., 12.],\n",
              "        [21., 32.]])"
            ]
          },
          "metadata": {},
          "execution_count": 16
        }
      ]
    },
    {
      "cell_type": "code",
      "source": [
        "# Can change datatype using torch.type()\n",
        "float_16_tensor.type(torch.float64)"
      ],
      "metadata": {
        "colab": {
          "base_uri": "https://localhost:8080/"
        },
        "id": "_XqbAEB_TUIX",
        "outputId": "0c13e213-8b36-4108-a34d-4e66f8e8d7ec"
      },
      "execution_count": 17,
      "outputs": [
        {
          "output_type": "execute_result",
          "data": {
            "text/plain": [
              "tensor([[5., 6.],\n",
              "        [7., 8.]], dtype=torch.float64)"
            ]
          },
          "metadata": {},
          "execution_count": 17
        }
      ]
    },
    {
      "cell_type": "markdown",
      "source": [
        "## Manipulating tensors\n",
        "\n",
        "- addition\n",
        "- subtraction\n",
        "- multiplication (Hadamard product)\n",
        "- division\n",
        "- matrix multiplication\n"
      ],
      "metadata": {
        "id": "mFB_D5hdTg-m"
      }
    },
    {
      "cell_type": "code",
      "source": [
        "# Create a tensor\n",
        "tensor = torch.tensor([1,2,3,4])\n",
        "print(tensor + 10)\n",
        "print(torch.add(tensor,10))"
      ],
      "metadata": {
        "colab": {
          "base_uri": "https://localhost:8080/"
        },
        "id": "kya6qT7mYnGN",
        "outputId": "4b9b21cd-47e5-40df-d462-f8bb9d012c26"
      },
      "execution_count": 18,
      "outputs": [
        {
          "output_type": "stream",
          "name": "stdout",
          "text": [
            "tensor([11, 12, 13, 14])\n",
            "tensor([11, 12, 13, 14])\n"
          ]
        }
      ]
    },
    {
      "cell_type": "code",
      "source": [
        "# Multiply tensor by 10\n",
        "print(tensor * 10)\n",
        "print(torch.mul(tensor,10))"
      ],
      "metadata": {
        "colab": {
          "base_uri": "https://localhost:8080/"
        },
        "id": "KkdRnWCuYsDb",
        "outputId": "16acfeed-6ef9-49c6-d007-3809823ff557"
      },
      "execution_count": 19,
      "outputs": [
        {
          "output_type": "stream",
          "name": "stdout",
          "text": [
            "tensor([10, 20, 30, 40])\n",
            "tensor([10, 20, 30, 40])\n"
          ]
        }
      ]
    },
    {
      "cell_type": "code",
      "source": [
        "# Subtract tensor by 10\n",
        "print(tensor - 10)\n",
        "print(torch.sub(tensor,10))"
      ],
      "metadata": {
        "colab": {
          "base_uri": "https://localhost:8080/"
        },
        "id": "8PRqbj0MYwST",
        "outputId": "c20cbc40-c0e3-499e-c251-ceefe046cf78"
      },
      "execution_count": 20,
      "outputs": [
        {
          "output_type": "stream",
          "name": "stdout",
          "text": [
            "tensor([-9, -8, -7, -6])\n",
            "tensor([-9, -8, -7, -6])\n"
          ]
        }
      ]
    },
    {
      "cell_type": "code",
      "source": [
        "# Divide tensor by 10\n",
        "print(tensor/2)\n",
        "print(torch.div(tensor,2))"
      ],
      "metadata": {
        "colab": {
          "base_uri": "https://localhost:8080/"
        },
        "id": "EJHsm790Y9Q8",
        "outputId": "141dedb7-b172-408c-9126-11f42051af06"
      },
      "execution_count": 21,
      "outputs": [
        {
          "output_type": "stream",
          "name": "stdout",
          "text": [
            "tensor([0.5000, 1.0000, 1.5000, 2.0000])\n",
            "tensor([0.5000, 1.0000, 1.5000, 2.0000])\n"
          ]
        }
      ]
    },
    {
      "cell_type": "markdown",
      "source": [
        "## Multiplication\n",
        "\n",
        "- element-wise (Hadamard Product)\n",
        "- matrix multiplication (Dot Product if 1D vector)"
      ],
      "metadata": {
        "id": "5g2ptvXvZZuG"
      }
    },
    {
      "cell_type": "code",
      "source": [
        "tensor1 = torch.arange(0,5,2)\n",
        "tensor2 = torch.arange(0,5,2)\n",
        "\n",
        "print(tensor1)\n",
        "print(tensor2)"
      ],
      "metadata": {
        "colab": {
          "base_uri": "https://localhost:8080/"
        },
        "id": "awSqpAnpZmKU",
        "outputId": "7be019af-6ed3-4633-9168-ce668d7d0e40"
      },
      "execution_count": 22,
      "outputs": [
        {
          "output_type": "stream",
          "name": "stdout",
          "text": [
            "tensor([0, 2, 4])\n",
            "tensor([0, 2, 4])\n"
          ]
        }
      ]
    },
    {
      "cell_type": "code",
      "source": [
        "# Element wise\n",
        "tensor1 * tensor2"
      ],
      "metadata": {
        "colab": {
          "base_uri": "https://localhost:8080/"
        },
        "id": "2iht9TIEaRbk",
        "outputId": "0f98e6d2-a66a-4f74-c736-bfac4516ec1a"
      },
      "execution_count": 23,
      "outputs": [
        {
          "output_type": "execute_result",
          "data": {
            "text/plain": [
              "tensor([ 0,  4, 16])"
            ]
          },
          "metadata": {},
          "execution_count": 23
        }
      ]
    },
    {
      "cell_type": "code",
      "source": [
        "# Matrix multiplication\n",
        "%%time\n",
        "tensor3 = torch.matmul(tensor1,tensor2)\n",
        "tensor3"
      ],
      "metadata": {
        "colab": {
          "base_uri": "https://localhost:8080/"
        },
        "id": "oOBIHOLQa1OL",
        "outputId": "9883a26a-c71d-4e6e-c24a-f0c471a200a1"
      },
      "execution_count": 24,
      "outputs": [
        {
          "output_type": "stream",
          "name": "stdout",
          "text": [
            "CPU times: user 265 µs, sys: 878 µs, total: 1.14 ms\n",
            "Wall time: 22.7 ms\n"
          ]
        },
        {
          "output_type": "execute_result",
          "data": {
            "text/plain": [
              "tensor(20)"
            ]
          },
          "metadata": {},
          "execution_count": 24
        }
      ]
    },
    {
      "cell_type": "code",
      "source": [
        "# Higher shape matrix multiplication\n",
        "t1 = torch.tensor([[1,2],\n",
        "                 [3,4],\n",
        "                 [5,6]])\n",
        "\n",
        "t2 = torch.tensor([[7,8],\n",
        "                 [9,10],\n",
        "                 [11,12]])\n",
        "t2 = t2.T\n",
        "print(t2)\n",
        "torch.matmul(t1,t2)"
      ],
      "metadata": {
        "id": "fNZZzV0JddZf",
        "outputId": "e80132fb-55d1-4793-9cab-7349fcfc74c7",
        "colab": {
          "base_uri": "https://localhost:8080/"
        }
      },
      "execution_count": 25,
      "outputs": [
        {
          "output_type": "stream",
          "name": "stdout",
          "text": [
            "tensor([[ 7,  9, 11],\n",
            "        [ 8, 10, 12]])\n"
          ]
        },
        {
          "output_type": "execute_result",
          "data": {
            "text/plain": [
              "tensor([[ 23,  29,  35],\n",
              "        [ 53,  67,  81],\n",
              "        [ 83, 105, 127]])"
            ]
          },
          "metadata": {},
          "execution_count": 25
        }
      ]
    },
    {
      "cell_type": "markdown",
      "source": [
        "## Tensor Aggregation"
      ],
      "metadata": {
        "id": "xf1_PRL6hdjz"
      }
    },
    {
      "cell_type": "code",
      "source": [
        "x = torch.arange(0,100,10, dtype=torch.float32)\n",
        "x"
      ],
      "metadata": {
        "id": "NlUQJ7EWhfmv",
        "outputId": "af0719b1-b1ef-40cf-c1d3-eebc43a60542",
        "colab": {
          "base_uri": "https://localhost:8080/"
        }
      },
      "execution_count": 26,
      "outputs": [
        {
          "output_type": "execute_result",
          "data": {
            "text/plain": [
              "tensor([ 0., 10., 20., 30., 40., 50., 60., 70., 80., 90.])"
            ]
          },
          "metadata": {},
          "execution_count": 26
        }
      ]
    },
    {
      "cell_type": "code",
      "source": [
        "x.max(), x.min()"
      ],
      "metadata": {
        "id": "vneMDXGghpJf",
        "outputId": "28f1db94-7402-486f-ec82-bf0fa3a949dc",
        "colab": {
          "base_uri": "https://localhost:8080/"
        }
      },
      "execution_count": 27,
      "outputs": [
        {
          "output_type": "execute_result",
          "data": {
            "text/plain": [
              "(tensor(90.), tensor(0.))"
            ]
          },
          "metadata": {},
          "execution_count": 27
        }
      ]
    },
    {
      "cell_type": "code",
      "source": [
        "# torch.mean requires float32 to work\n",
        "torch.mean(x)"
      ],
      "metadata": {
        "id": "UUVrF2FThtUj",
        "outputId": "e70ed265-9d52-4d00-d0ea-6d161a0fd149",
        "colab": {
          "base_uri": "https://localhost:8080/"
        }
      },
      "execution_count": 28,
      "outputs": [
        {
          "output_type": "execute_result",
          "data": {
            "text/plain": [
              "tensor(45.)"
            ]
          },
          "metadata": {},
          "execution_count": 28
        }
      ]
    },
    {
      "cell_type": "code",
      "source": [
        "# Find the sum\n",
        "x.sum()"
      ],
      "metadata": {
        "id": "w92d9iBjiKGO",
        "outputId": "3ce2be0e-0870-401d-9c0e-61a95ae2f846",
        "colab": {
          "base_uri": "https://localhost:8080/"
        }
      },
      "execution_count": 29,
      "outputs": [
        {
          "output_type": "execute_result",
          "data": {
            "text/plain": [
              "tensor(450.)"
            ]
          },
          "metadata": {},
          "execution_count": 29
        }
      ]
    },
    {
      "cell_type": "markdown",
      "source": [
        "## Find the positional min and max"
      ],
      "metadata": {
        "id": "VBPFoJNxiSmr"
      }
    },
    {
      "cell_type": "code",
      "source": [
        "x"
      ],
      "metadata": {
        "id": "XOL1yX2gicwF",
        "outputId": "1123f698-8a58-47fd-e711-82e74de258de",
        "colab": {
          "base_uri": "https://localhost:8080/"
        }
      },
      "execution_count": 30,
      "outputs": [
        {
          "output_type": "execute_result",
          "data": {
            "text/plain": [
              "tensor([ 0., 10., 20., 30., 40., 50., 60., 70., 80., 90.])"
            ]
          },
          "metadata": {},
          "execution_count": 30
        }
      ]
    },
    {
      "cell_type": "code",
      "source": [
        "# Find the position of tensor with min value\n",
        "x.argmin()"
      ],
      "metadata": {
        "id": "AcvljpdOid1s",
        "outputId": "4c1eab12-ae5b-4b8c-b5f8-85fa6fbfe7c8",
        "colab": {
          "base_uri": "https://localhost:8080/"
        }
      },
      "execution_count": 31,
      "outputs": [
        {
          "output_type": "execute_result",
          "data": {
            "text/plain": [
              "tensor(0)"
            ]
          },
          "metadata": {},
          "execution_count": 31
        }
      ]
    },
    {
      "cell_type": "code",
      "source": [
        "x.argmax()"
      ],
      "metadata": {
        "id": "_KuTEJIyio-L",
        "outputId": "9384d7a7-36bc-45d1-afea-e1dd97c3ecaa",
        "colab": {
          "base_uri": "https://localhost:8080/"
        }
      },
      "execution_count": 32,
      "outputs": [
        {
          "output_type": "execute_result",
          "data": {
            "text/plain": [
              "tensor(9)"
            ]
          },
          "metadata": {},
          "execution_count": 32
        }
      ]
    },
    {
      "cell_type": "markdown",
      "source": [
        "## Reshaping, stacking, squeezing, unsqueezing tensors"
      ],
      "metadata": {
        "id": "Yy8bEFACiptk"
      }
    },
    {
      "cell_type": "code",
      "source": [
        "# Make a tensor\n",
        "x = torch.arange(1,10)\n",
        "x,x.shape"
      ],
      "metadata": {
        "id": "rm2vYBg3vJMs",
        "outputId": "885db083-67aa-47a8-932c-84e3894076b3",
        "colab": {
          "base_uri": "https://localhost:8080/"
        }
      },
      "execution_count": 49,
      "outputs": [
        {
          "output_type": "execute_result",
          "data": {
            "text/plain": [
              "(tensor([1, 2, 3, 4, 5, 6, 7, 8, 9]), torch.Size([9]))"
            ]
          },
          "metadata": {},
          "execution_count": 49
        }
      ]
    },
    {
      "cell_type": "code",
      "source": [
        "# Add an extra dimension\n",
        "x_reshape = x.reshape(1,9)\n",
        "x_reshape, x_reshape.shape"
      ],
      "metadata": {
        "id": "qbovyMjuv9kt",
        "outputId": "966ad922-fd9f-4e1e-fb2b-cc68474e8552",
        "colab": {
          "base_uri": "https://localhost:8080/"
        }
      },
      "execution_count": 50,
      "outputs": [
        {
          "output_type": "execute_result",
          "data": {
            "text/plain": [
              "(tensor([[1, 2, 3, 4, 5, 6, 7, 8, 9]]), torch.Size([1, 9]))"
            ]
          },
          "metadata": {},
          "execution_count": 50
        }
      ]
    },
    {
      "cell_type": "code",
      "source": [
        "# Change the view\n",
        "z = x.view(1,9)\n",
        "z,z.shape"
      ],
      "metadata": {
        "id": "O93aqUpVwb7V",
        "outputId": "2883f68e-1cd5-4253-cecc-e346149cc725",
        "colab": {
          "base_uri": "https://localhost:8080/"
        }
      },
      "execution_count": 51,
      "outputs": [
        {
          "output_type": "execute_result",
          "data": {
            "text/plain": [
              "(tensor([[1, 2, 3, 4, 5, 6, 7, 8, 9]]), torch.Size([1, 9]))"
            ]
          },
          "metadata": {},
          "execution_count": 51
        }
      ]
    },
    {
      "cell_type": "code",
      "source": [
        "# Changing z changes x (view of a tensor shares same memeory as original)\n",
        "z[:,0] = 5\n",
        "z,x"
      ],
      "metadata": {
        "id": "c0zwDA6Pw8wj",
        "outputId": "21d6de4b-7f6a-4bbb-f47c-e52bc223c3e3",
        "colab": {
          "base_uri": "https://localhost:8080/"
        }
      },
      "execution_count": 53,
      "outputs": [
        {
          "output_type": "execute_result",
          "data": {
            "text/plain": [
              "(tensor([[5, 2, 3, 4, 5, 6, 7, 8, 9]]), tensor([5, 2, 3, 4, 5, 6, 7, 8, 9]))"
            ]
          },
          "metadata": {},
          "execution_count": 53
        }
      ]
    },
    {
      "cell_type": "code",
      "source": [
        "# Stack tensors on top of each other using torch.stack\n",
        "x_stack = torch.stack([x,x,x,x], dim=0)\n",
        "x_stack"
      ],
      "metadata": {
        "id": "YqV9Oi_OxF7z",
        "outputId": "b74f665a-4b02-45ac-b483-38bb98cede8a",
        "colab": {
          "base_uri": "https://localhost:8080/"
        }
      },
      "execution_count": 59,
      "outputs": [
        {
          "output_type": "execute_result",
          "data": {
            "text/plain": [
              "tensor([[5, 2, 3, 4, 5, 6, 7, 8, 9],\n",
              "        [5, 2, 3, 4, 5, 6, 7, 8, 9],\n",
              "        [5, 2, 3, 4, 5, 6, 7, 8, 9],\n",
              "        [5, 2, 3, 4, 5, 6, 7, 8, 9]])"
            ]
          },
          "metadata": {},
          "execution_count": 59
        }
      ]
    },
    {
      "cell_type": "code",
      "source": [
        "# torch.squeeze() - remove all 1 dimensions\n",
        "x = torch.rand(1,3,4,1)\n",
        "print(x,x.shape)\n",
        "x_squeeze = x.squeeze()\n",
        "print(x_squeeze,x_squeeze.shape)"
      ],
      "metadata": {
        "id": "EVeCe0YHzF3W",
        "outputId": "deddf0ff-09c6-4c96-c249-50b9ed81a26a",
        "colab": {
          "base_uri": "https://localhost:8080/"
        }
      },
      "execution_count": 81,
      "outputs": [
        {
          "output_type": "stream",
          "name": "stdout",
          "text": [
            "tensor([[[[0.8369],\n",
            "          [0.0086],\n",
            "          [0.8873],\n",
            "          [0.5323]],\n",
            "\n",
            "         [[0.8735],\n",
            "          [0.1326],\n",
            "          [0.6962],\n",
            "          [0.6038]],\n",
            "\n",
            "         [[0.4575],\n",
            "          [0.8351],\n",
            "          [0.4644],\n",
            "          [0.9810]]]]) torch.Size([1, 3, 4, 1])\n",
            "tensor([[0.8369, 0.0086, 0.8873, 0.5323],\n",
            "        [0.8735, 0.1326, 0.6962, 0.6038],\n",
            "        [0.4575, 0.8351, 0.4644, 0.9810]]) torch.Size([3, 4])\n"
          ]
        }
      ]
    },
    {
      "cell_type": "code",
      "source": [
        "# torch.unsqueeze() - add dimension of 1, dim = index of added 1 dimension\n",
        "x_unsqueeze = x_squeeze.unsqueeze(dim=2)\n",
        "x_unsqueeze.shape, x_unsqueeze"
      ],
      "metadata": {
        "id": "OfnVh-SYzdKZ",
        "outputId": "0a1518ea-78d0-40d7-a031-a6feb0fffd19",
        "colab": {
          "base_uri": "https://localhost:8080/"
        }
      },
      "execution_count": 90,
      "outputs": [
        {
          "output_type": "execute_result",
          "data": {
            "text/plain": [
              "(torch.Size([3, 4, 1]),\n",
              " tensor([[[0.8369],\n",
              "          [0.0086],\n",
              "          [0.8873],\n",
              "          [0.5323]],\n",
              " \n",
              "         [[0.8735],\n",
              "          [0.1326],\n",
              "          [0.6962],\n",
              "          [0.6038]],\n",
              " \n",
              "         [[0.4575],\n",
              "          [0.8351],\n",
              "          [0.4644],\n",
              "          [0.9810]]]))"
            ]
          },
          "metadata": {},
          "execution_count": 90
        }
      ]
    },
    {
      "cell_type": "code",
      "source": [
        "# torch.permute() - change the order of parameters, feed in array, then desired index\n",
        "x_orig = torch.rand(224,224,3)\n",
        "print(x_orig.shape)\n",
        "\n",
        "# rearrange the axes\n",
        "x_permute = x_orig.permute(2,0,1)\n",
        "print(x_permute.shape)"
      ],
      "metadata": {
        "id": "mMpouWBG1AIl",
        "outputId": "4dfd21c5-250a-4daf-9e23-d0f3819e2a0e",
        "colab": {
          "base_uri": "https://localhost:8080/"
        }
      },
      "execution_count": 95,
      "outputs": [
        {
          "output_type": "stream",
          "name": "stdout",
          "text": [
            "torch.Size([224, 224, 3])\n",
            "torch.Size([3, 224, 224])\n"
          ]
        }
      ]
    },
    {
      "cell_type": "code",
      "source": [
        "# permute shares same view as orig\n",
        "x_orig[0,0,0] = 999\n",
        "x_orig[0,0,0],x_permute[0,0,0]"
      ],
      "metadata": {
        "id": "DX3Tz49R1OTW",
        "outputId": "38da1d10-4aeb-481d-e319-a5ae3088106a",
        "colab": {
          "base_uri": "https://localhost:8080/"
        }
      },
      "execution_count": 96,
      "outputs": [
        {
          "output_type": "execute_result",
          "data": {
            "text/plain": [
              "(tensor(999.), tensor(999.))"
            ]
          },
          "metadata": {},
          "execution_count": 96
        }
      ]
    },
    {
      "cell_type": "markdown",
      "source": [
        "##Indexing with Pytorch"
      ],
      "metadata": {
        "id": "GpHEsS7j2AQk"
      }
    },
    {
      "cell_type": "code",
      "source": [
        "x = torch.arange(1,11).reshape(1,2,5)\n",
        "x"
      ],
      "metadata": {
        "id": "hNNFnm_o2Cw0",
        "outputId": "a0bb0b93-331d-44db-a244-b25c2750edb8",
        "colab": {
          "base_uri": "https://localhost:8080/"
        }
      },
      "execution_count": 97,
      "outputs": [
        {
          "output_type": "execute_result",
          "data": {
            "text/plain": [
              "tensor([[[ 1,  2,  3,  4,  5],\n",
              "         [ 6,  7,  8,  9, 10]]])"
            ]
          },
          "metadata": {},
          "execution_count": 97
        }
      ]
    },
    {
      "cell_type": "code",
      "source": [
        "# commas depend on the shape of your tensor, it goes by dimension in order\n",
        "# from 0th dimension to (n-1)th dimension where n is len(tensor)\n",
        "x[:,1,0:2]"
      ],
      "metadata": {
        "id": "lwrfkEeT215c",
        "outputId": "8ab971a3-6f97-4b5d-cbda-424b00a78fa6",
        "colab": {
          "base_uri": "https://localhost:8080/"
        }
      },
      "execution_count": 109,
      "outputs": [
        {
          "output_type": "execute_result",
          "data": {
            "text/plain": [
              "tensor([[6, 7]])"
            ]
          },
          "metadata": {},
          "execution_count": 109
        }
      ]
    },
    {
      "cell_type": "markdown",
      "source": [
        "3:30 https://www.youtube.com/watch?v=V_xro1bcAuA&ab_channel=freeCodeCamp.org"
      ],
      "metadata": {
        "id": "nFlrFiup3fCk"
      }
    }
  ]
}