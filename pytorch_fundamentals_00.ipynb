{
  "nbformat": 4,
  "nbformat_minor": 0,
  "metadata": {
    "colab": {
      "provenance": [],
      "authorship_tag": "ABX9TyOq+57X/lFsCQb9Q77Kgri/",
      "include_colab_link": true
    },
    "kernelspec": {
      "name": "python3",
      "display_name": "Python 3"
    },
    "language_info": {
      "name": "python"
    }
  },
  "cells": [
    {
      "cell_type": "markdown",
      "metadata": {
        "id": "view-in-github",
        "colab_type": "text"
      },
      "source": [
        "<a href=\"https://colab.research.google.com/github/james-yu2005/pytorch-practice/blob/main/pytorch_fundamentals_00.ipynb\" target=\"_parent\"><img src=\"https://colab.research.google.com/assets/colab-badge.svg\" alt=\"Open In Colab\"/></a>"
      ]
    },
    {
      "cell_type": "code",
      "execution_count": null,
      "metadata": {
        "colab": {
          "base_uri": "https://localhost:8080/"
        },
        "id": "hyUJo3wRVoUZ",
        "outputId": "7b3117a5-cc45-4e09-c3c7-3e6afcf8512c"
      },
      "outputs": [
        {
          "output_type": "stream",
          "name": "stdout",
          "text": [
            "2.8.0+cu126\n"
          ]
        }
      ],
      "source": [
        "import torch\n",
        "import pandas as pd\n",
        "import matplotlib.pyplot as plt\n",
        "import numpy as np\n",
        "print(torch.__version__)"
      ]
    },
    {
      "cell_type": "markdown",
      "source": [
        "## Intro to Tensors\n",
        "\n",
        "PyTorch tensors are created using 'torch.Tensor()'\n",
        "\n",
        "Matrix and Tensors are often uppercase while vectors and scalars are lowercase"
      ],
      "metadata": {
        "id": "AZdjyVY2WqQh"
      }
    },
    {
      "cell_type": "code",
      "source": [
        "# Create a tensor using torch.tensor(), can use dtype to specify datatype, can specify that data is stored on gpu which runs faster\n",
        "scalar = torch.tensor(190)\n",
        "print(scalar)\n",
        "\n",
        "vector = torch.tensor([19,5])\n",
        "print(vector)\n",
        "\n",
        "matrix = torch.tensor([[1.,2.],\n",
        "                      [3.,4.]], dtype=torch.float16)\n",
        "print(matrix)\n",
        "\n",
        "tensor = torch.tensor([[[1,2,3],\n",
        "                        [3,6,9],\n",
        "                        [1,7,9]]], dtype=torch.int32)\n",
        "print(tensor)"
      ],
      "metadata": {
        "colab": {
          "base_uri": "https://localhost:8080/"
        },
        "id": "vc-uHAtlW2Zy",
        "outputId": "e496b337-a48b-4851-cd72-8f9696d6d3f8"
      },
      "execution_count": null,
      "outputs": [
        {
          "output_type": "stream",
          "name": "stdout",
          "text": [
            "tensor(190)\n",
            "tensor([19,  5])\n",
            "tensor([[1., 2.],\n",
            "        [3., 4.]], dtype=torch.float16)\n",
            "tensor([[[1, 2, 3],\n",
            "         [3, 6, 9],\n",
            "         [1, 7, 9]]], dtype=torch.int32)\n"
          ]
        }
      ]
    },
    {
      "cell_type": "code",
      "source": [
        "# Can figure out dimensions using torch.tensor.ndim and shape using torch.tensor.shape\n",
        "print(scalar.ndim)\n",
        "print(scalar.shape)\n",
        "\n",
        "print(tensor.ndim)\n",
        "print(tensor.shape)"
      ],
      "metadata": {
        "colab": {
          "base_uri": "https://localhost:8080/"
        },
        "id": "L8xB1pKyXGce",
        "outputId": "67a4d29d-6824-478a-e68f-8a485512434b"
      },
      "execution_count": null,
      "outputs": [
        {
          "output_type": "stream",
          "name": "stdout",
          "text": [
            "0\n",
            "torch.Size([])\n",
            "3\n",
            "torch.Size([1, 3, 3])\n"
          ]
        }
      ]
    },
    {
      "cell_type": "code",
      "source": [
        "# Get tensor back as python object using torch.tensor.item() --> only works on scalar\n",
        "print(scalar.item())"
      ],
      "metadata": {
        "colab": {
          "base_uri": "https://localhost:8080/"
        },
        "id": "kTxQPTj7XSr6",
        "outputId": "c1d5ac63-42dd-4e65-c726-710a33c1649e"
      },
      "execution_count": null,
      "outputs": [
        {
          "output_type": "stream",
          "name": "stdout",
          "text": [
            "190\n"
          ]
        }
      ]
    },
    {
      "cell_type": "markdown",
      "source": [
        "## Random Tensors\n",
        "\n",
        "Neural networks learn start with tensors with random numbers and adjust based on the data to better represent them as the model gets trained"
      ],
      "metadata": {
        "id": "ajy8Ck5ZOrDi"
      }
    },
    {
      "cell_type": "code",
      "source": [
        "# Random tensor of size (3,4)\n",
        "\n",
        "rand_tensor = torch.rand(3,4, dtype=torch.float16)\n",
        "rand_tensor"
      ],
      "metadata": {
        "id": "azZ-vWRHOyEc",
        "outputId": "bf310326-097b-4ace-d2eb-330633214ad4",
        "colab": {
          "base_uri": "https://localhost:8080/"
        }
      },
      "execution_count": null,
      "outputs": [
        {
          "output_type": "execute_result",
          "data": {
            "text/plain": [
              "tensor([[3.6328e-01, 7.4170e-01, 2.4561e-01, 8.5986e-01],\n",
              "        [7.9150e-01, 7.6318e-01, 5.3809e-01, 1.2305e-01],\n",
              "        [5.9473e-01, 4.8828e-04, 4.6240e-01, 7.0068e-01]], dtype=torch.float16)"
            ]
          },
          "metadata": {},
          "execution_count": 5
        }
      ]
    },
    {
      "cell_type": "code",
      "source": [
        "print(rand_tensor.ndim)\n",
        "print(rand_tensor.shape)"
      ],
      "metadata": {
        "id": "7S6mxvu6PTJO",
        "outputId": "119fe310-7c9f-4b2d-9e85-5834a90e8373",
        "colab": {
          "base_uri": "https://localhost:8080/"
        }
      },
      "execution_count": null,
      "outputs": [
        {
          "output_type": "stream",
          "name": "stdout",
          "text": [
            "2\n",
            "torch.Size([3, 4])\n"
          ]
        }
      ]
    },
    {
      "cell_type": "code",
      "source": [
        "image_size_tensor = torch.rand(size=(224,224,3))\n",
        "image_size_tensor.shape"
      ],
      "metadata": {
        "id": "066R6JAHPi3L",
        "outputId": "a56f572c-210a-4d43-95be-c0e648349dd2",
        "colab": {
          "base_uri": "https://localhost:8080/"
        }
      },
      "execution_count": null,
      "outputs": [
        {
          "output_type": "execute_result",
          "data": {
            "text/plain": [
              "torch.Size([224, 224, 3])"
            ]
          },
          "metadata": {},
          "execution_count": 8
        }
      ]
    },
    {
      "cell_type": "markdown",
      "source": [
        "## Zeros and Ones"
      ],
      "metadata": {
        "id": "-TNmwTi8QFgk"
      }
    },
    {
      "cell_type": "code",
      "source": [
        "# Create a tensor of all zeroes\n",
        "zeros = torch.zeros(3,4)\n",
        "zeros"
      ],
      "metadata": {
        "id": "3aWvEcF-QG5p",
        "outputId": "ff0176e8-8271-44de-d032-3a45bd90c75e",
        "colab": {
          "base_uri": "https://localhost:8080/"
        }
      },
      "execution_count": null,
      "outputs": [
        {
          "output_type": "execute_result",
          "data": {
            "text/plain": [
              "tensor([[0., 0., 0., 0.],\n",
              "        [0., 0., 0., 0.],\n",
              "        [0., 0., 0., 0.]])"
            ]
          },
          "metadata": {},
          "execution_count": 9
        }
      ]
    },
    {
      "cell_type": "code",
      "source": [
        "# Note that this is Hadamard Product and not matrix multiplication\n",
        "\n",
        "zeros*rand_tensor"
      ],
      "metadata": {
        "id": "j2IK8SvQQami",
        "outputId": "385b2bef-60d9-439e-f877-5b62cf2ab5de",
        "colab": {
          "base_uri": "https://localhost:8080/"
        }
      },
      "execution_count": null,
      "outputs": [
        {
          "output_type": "execute_result",
          "data": {
            "text/plain": [
              "tensor([[0., 0., 0., 0.],\n",
              "        [0., 0., 0., 0.],\n",
              "        [0., 0., 0., 0.]])"
            ]
          },
          "metadata": {},
          "execution_count": 10
        }
      ]
    },
    {
      "cell_type": "markdown",
      "source": [
        "## 1:46:55\n",
        "\n",
        "https://www.youtube.com/watch?v=V_xro1bcAuA&ab_channel=freeCodeCamp.org"
      ],
      "metadata": {
        "id": "lupR44wPRp9N"
      }
    }
  ]
}