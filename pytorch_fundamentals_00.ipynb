{
  "nbformat": 4,
  "nbformat_minor": 0,
  "metadata": {
    "colab": {
      "provenance": [],
      "authorship_tag": "ABX9TyO5y1Au6q9Me3XOdQAjxTV/",
      "include_colab_link": true
    },
    "kernelspec": {
      "name": "python3",
      "display_name": "Python 3"
    },
    "language_info": {
      "name": "python"
    }
  },
  "cells": [
    {
      "cell_type": "markdown",
      "metadata": {
        "id": "view-in-github",
        "colab_type": "text"
      },
      "source": [
        "<a href=\"https://colab.research.google.com/github/james-yu2005/pytorch-practice/blob/main/pytorch_fundamentals_00.ipynb\" target=\"_parent\"><img src=\"https://colab.research.google.com/assets/colab-badge.svg\" alt=\"Open In Colab\"/></a>"
      ]
    },
    {
      "cell_type": "code",
      "execution_count": 1,
      "metadata": {
        "colab": {
          "base_uri": "https://localhost:8080/"
        },
        "id": "hyUJo3wRVoUZ",
        "outputId": "0461fa47-a5d5-4903-c6c2-9fd2a3a93f2c"
      },
      "outputs": [
        {
          "output_type": "stream",
          "name": "stdout",
          "text": [
            "2.8.0+cu126\n"
          ]
        }
      ],
      "source": [
        "import torch\n",
        "import pandas as pd\n",
        "import matplotlib.pyplot as plt\n",
        "import numpy as np\n",
        "print(torch.__version__)"
      ]
    },
    {
      "cell_type": "markdown",
      "source": [
        "## Intro to Tensors\n",
        "\n",
        "PyTorch tensors are created using 'torch.Tensor()'\n",
        "\n",
        "Matrix and Tensors are often uppercase while vectors and scalars are lowercase"
      ],
      "metadata": {
        "id": "AZdjyVY2WqQh"
      }
    },
    {
      "cell_type": "code",
      "source": [
        "# Create a tensor using torch.tensor(), can use dtype to specify datatype, can specify that data is stored on gpu which runs faster\n",
        "scalar = torch.tensor(190)\n",
        "print(scalar)\n",
        "\n",
        "vector = torch.tensor([19,5])\n",
        "print(vector)\n",
        "\n",
        "matrix = torch.tensor([[1.,2.],\n",
        "                      [3.,4.]], dtype=torch.float16)\n",
        "print(matrix)\n",
        "\n",
        "tensor = torch.tensor([[[1,2,3],\n",
        "                        [3,6,9],\n",
        "                        [1,7,9]]], dtype=torch.int32)\n",
        "print(tensor)"
      ],
      "metadata": {
        "colab": {
          "base_uri": "https://localhost:8080/"
        },
        "id": "vc-uHAtlW2Zy",
        "outputId": "41c9aa31-9d3a-4b4f-fe7d-5e705ce48bf4"
      },
      "execution_count": 2,
      "outputs": [
        {
          "output_type": "stream",
          "name": "stdout",
          "text": [
            "tensor(190)\n",
            "tensor([19,  5])\n",
            "tensor([[1., 2.],\n",
            "        [3., 4.]], dtype=torch.float16)\n",
            "tensor([[[1, 2, 3],\n",
            "         [3, 6, 9],\n",
            "         [1, 7, 9]]], dtype=torch.int32)\n"
          ]
        }
      ]
    },
    {
      "cell_type": "code",
      "source": [
        "# Can figure out dimensions using torch.tensor.ndim and shape using torch.tensor.shape\n",
        "print(scalar.ndim)\n",
        "print(scalar.shape)\n",
        "\n",
        "print(tensor.ndim)\n",
        "print(tensor.shape)"
      ],
      "metadata": {
        "colab": {
          "base_uri": "https://localhost:8080/"
        },
        "id": "L8xB1pKyXGce",
        "outputId": "fa52c816-fb98-4c24-8eb4-bee384e96c33"
      },
      "execution_count": 3,
      "outputs": [
        {
          "output_type": "stream",
          "name": "stdout",
          "text": [
            "0\n",
            "torch.Size([])\n",
            "3\n",
            "torch.Size([1, 3, 3])\n"
          ]
        }
      ]
    },
    {
      "cell_type": "code",
      "source": [
        "# Get tensor back as python object using torch.tensor.item() --> only works on scalar\n",
        "print(scalar.item())"
      ],
      "metadata": {
        "colab": {
          "base_uri": "https://localhost:8080/"
        },
        "id": "kTxQPTj7XSr6",
        "outputId": "e58853bb-bf12-49e8-f57e-9e32a8179b89"
      },
      "execution_count": 4,
      "outputs": [
        {
          "output_type": "stream",
          "name": "stdout",
          "text": [
            "190\n"
          ]
        }
      ]
    },
    {
      "cell_type": "markdown",
      "source": [
        "## Random Tensors\n",
        "\n",
        "Neural networks learn start with tensors with random numbers and adjust based on the data to better represent them as the model gets trained"
      ],
      "metadata": {
        "id": "ajy8Ck5ZOrDi"
      }
    },
    {
      "cell_type": "code",
      "source": [
        "# Random tensor of size (3,4)\n",
        "\n",
        "rand_tensor = torch.rand(3,4, dtype=torch.float16)\n",
        "rand_tensor"
      ],
      "metadata": {
        "id": "azZ-vWRHOyEc",
        "outputId": "b3aff57a-697c-4105-c673-fd5cdf15b546",
        "colab": {
          "base_uri": "https://localhost:8080/"
        }
      },
      "execution_count": 5,
      "outputs": [
        {
          "output_type": "execute_result",
          "data": {
            "text/plain": [
              "tensor([[0.5581, 0.2588, 0.4033, 0.1157],\n",
              "        [0.8672, 0.9683, 0.9087, 0.2441],\n",
              "        [0.2393, 0.5239, 0.9722, 0.7202]], dtype=torch.float16)"
            ]
          },
          "metadata": {},
          "execution_count": 5
        }
      ]
    },
    {
      "cell_type": "code",
      "source": [
        "print(rand_tensor.ndim)\n",
        "print(rand_tensor.shape)"
      ],
      "metadata": {
        "id": "7S6mxvu6PTJO",
        "outputId": "1b2c4416-c0ac-42f3-8042-e9b95e5cc6ed",
        "colab": {
          "base_uri": "https://localhost:8080/"
        }
      },
      "execution_count": 6,
      "outputs": [
        {
          "output_type": "stream",
          "name": "stdout",
          "text": [
            "2\n",
            "torch.Size([3, 4])\n"
          ]
        }
      ]
    },
    {
      "cell_type": "code",
      "source": [
        "image_size_tensor = torch.rand(size=(224,224,3))\n",
        "image_size_tensor.shape"
      ],
      "metadata": {
        "id": "066R6JAHPi3L",
        "outputId": "8090cc1b-9169-499c-ffe1-e970b6e88de7",
        "colab": {
          "base_uri": "https://localhost:8080/"
        }
      },
      "execution_count": 7,
      "outputs": [
        {
          "output_type": "execute_result",
          "data": {
            "text/plain": [
              "torch.Size([224, 224, 3])"
            ]
          },
          "metadata": {},
          "execution_count": 7
        }
      ]
    },
    {
      "cell_type": "markdown",
      "source": [
        "## Zeros and Ones"
      ],
      "metadata": {
        "id": "-TNmwTi8QFgk"
      }
    },
    {
      "cell_type": "code",
      "source": [
        "# Create a tensor of all zeroes\n",
        "zeros = torch.zeros(3,4)\n",
        "zeros"
      ],
      "metadata": {
        "id": "3aWvEcF-QG5p",
        "outputId": "3833f638-9d60-48ee-bca6-bf1f669d1c05",
        "colab": {
          "base_uri": "https://localhost:8080/"
        }
      },
      "execution_count": 8,
      "outputs": [
        {
          "output_type": "execute_result",
          "data": {
            "text/plain": [
              "tensor([[0., 0., 0., 0.],\n",
              "        [0., 0., 0., 0.],\n",
              "        [0., 0., 0., 0.]])"
            ]
          },
          "metadata": {},
          "execution_count": 8
        }
      ]
    },
    {
      "cell_type": "code",
      "source": [
        "# Note that this is Hadamard Product and not matrix multiplication\n",
        "\n",
        "zeros*rand_tensor"
      ],
      "metadata": {
        "id": "j2IK8SvQQami",
        "outputId": "6886647b-81ed-4d13-816e-f39c97dd14ef",
        "colab": {
          "base_uri": "https://localhost:8080/"
        }
      },
      "execution_count": 9,
      "outputs": [
        {
          "output_type": "execute_result",
          "data": {
            "text/plain": [
              "tensor([[0., 0., 0., 0.],\n",
              "        [0., 0., 0., 0.],\n",
              "        [0., 0., 0., 0.]])"
            ]
          },
          "metadata": {},
          "execution_count": 9
        }
      ]
    },
    {
      "cell_type": "code",
      "source": [
        "# Create a tensor of all ones\n",
        "ones = torch.ones(3,4)\n",
        "ones"
      ],
      "metadata": {
        "colab": {
          "base_uri": "https://localhost:8080/"
        },
        "id": "T3QIWGSfQ6VA",
        "outputId": "e78eb20f-0e75-400c-8277-eeecbc622d30"
      },
      "execution_count": 10,
      "outputs": [
        {
          "output_type": "execute_result",
          "data": {
            "text/plain": [
              "tensor([[1., 1., 1., 1.],\n",
              "        [1., 1., 1., 1.],\n",
              "        [1., 1., 1., 1.]])"
            ]
          },
          "metadata": {},
          "execution_count": 10
        }
      ]
    },
    {
      "cell_type": "code",
      "source": [
        "# Default is torch.float32\n",
        "ones.dtype"
      ],
      "metadata": {
        "colab": {
          "base_uri": "https://localhost:8080/"
        },
        "id": "I2CN4Jn0RGxg",
        "outputId": "40ed89a7-c507-4fdf-830b-289bee6baf4e"
      },
      "execution_count": 11,
      "outputs": [
        {
          "output_type": "execute_result",
          "data": {
            "text/plain": [
              "torch.float32"
            ]
          },
          "metadata": {},
          "execution_count": 11
        }
      ]
    },
    {
      "cell_type": "markdown",
      "source": [
        "## Creating a range of tensors and tensors-like"
      ],
      "metadata": {
        "id": "2KcJJt01RLhK"
      }
    },
    {
      "cell_type": "code",
      "source": [
        "# torch.range()\n",
        "torch_range = torch.arange(0,10,1)\n",
        "torch_range"
      ],
      "metadata": {
        "colab": {
          "base_uri": "https://localhost:8080/"
        },
        "id": "V_rHxSHCRN8N",
        "outputId": "c737cfe4-efbd-4593-986f-d2a54c2a93a6"
      },
      "execution_count": 12,
      "outputs": [
        {
          "output_type": "execute_result",
          "data": {
            "text/plain": [
              "tensor([0, 1, 2, 3, 4, 5, 6, 7, 8, 9])"
            ]
          },
          "metadata": {},
          "execution_count": 12
        }
      ]
    },
    {
      "cell_type": "code",
      "source": [
        "# Creating tensors like\n",
        "ten_zeros = torch.zeros_like(torch_range)\n",
        "ten_zeros"
      ],
      "metadata": {
        "colab": {
          "base_uri": "https://localhost:8080/"
        },
        "id": "WdcYrZEHRjF7",
        "outputId": "de9a2c52-3c84-42d5-cd14-2e9286e03444"
      },
      "execution_count": 13,
      "outputs": [
        {
          "output_type": "execute_result",
          "data": {
            "text/plain": [
              "tensor([0, 0, 0, 0, 0, 0, 0, 0, 0, 0])"
            ]
          },
          "metadata": {},
          "execution_count": 13
        }
      ]
    },
    {
      "cell_type": "markdown",
      "source": [
        "## Tensor Datatypes"
      ],
      "metadata": {
        "id": "v44cc5uSSAEJ"
      }
    },
    {
      "cell_type": "code",
      "source": [
        "float_32_tensor = torch.tensor([[1,2],[3,4]],\n",
        "                               dtype=torch.float32,\n",
        "                               device=None,\n",
        "                               requires_grad=False)\n",
        "float_32_tensor"
      ],
      "metadata": {
        "colab": {
          "base_uri": "https://localhost:8080/"
        },
        "id": "sT-UzCheSMZw",
        "outputId": "d6d75e21-a6c2-4f78-d9f4-30b8fc89d523"
      },
      "execution_count": 14,
      "outputs": [
        {
          "output_type": "execute_result",
          "data": {
            "text/plain": [
              "tensor([[1., 2.],\n",
              "        [3., 4.]])"
            ]
          },
          "metadata": {},
          "execution_count": 14
        }
      ]
    },
    {
      "cell_type": "code",
      "source": [
        "float_16_tensor = torch.tensor([[5,6],[7,8]],\n",
        "                               dtype=torch.float16)"
      ],
      "metadata": {
        "id": "EUksEzZySZVF"
      },
      "execution_count": 15,
      "outputs": []
    },
    {
      "cell_type": "code",
      "source": [
        "float_16_tensor * float_32_tensor"
      ],
      "metadata": {
        "colab": {
          "base_uri": "https://localhost:8080/"
        },
        "id": "fHap0V0FTClk",
        "outputId": "aa70bd43-8453-4a66-c76c-44dcbd43ed53"
      },
      "execution_count": 16,
      "outputs": [
        {
          "output_type": "execute_result",
          "data": {
            "text/plain": [
              "tensor([[ 5., 12.],\n",
              "        [21., 32.]])"
            ]
          },
          "metadata": {},
          "execution_count": 16
        }
      ]
    },
    {
      "cell_type": "code",
      "source": [
        "# Can change datatype using torch.type()\n",
        "float_16_tensor.type(torch.float64)"
      ],
      "metadata": {
        "colab": {
          "base_uri": "https://localhost:8080/"
        },
        "id": "_XqbAEB_TUIX",
        "outputId": "fcb23227-1b08-4745-de52-58d7b0c3e4f3"
      },
      "execution_count": 17,
      "outputs": [
        {
          "output_type": "execute_result",
          "data": {
            "text/plain": [
              "tensor([[5., 6.],\n",
              "        [7., 8.]], dtype=torch.float64)"
            ]
          },
          "metadata": {},
          "execution_count": 17
        }
      ]
    },
    {
      "cell_type": "markdown",
      "source": [
        "## Manipulating tensors\n",
        "\n",
        "- addition\n",
        "- subtraction\n",
        "- multiplication (Hadamard product)\n",
        "- division\n",
        "- matrix multiplication\n"
      ],
      "metadata": {
        "id": "mFB_D5hdTg-m"
      }
    },
    {
      "cell_type": "code",
      "source": [
        "# Create a tensor\n",
        "tensor = torch.tensor([1,2,3,4])\n",
        "print(tensor + 10)\n",
        "print(torch.add(tensor,10))"
      ],
      "metadata": {
        "colab": {
          "base_uri": "https://localhost:8080/"
        },
        "id": "kya6qT7mYnGN",
        "outputId": "ee93b47b-1301-4bc4-b8aa-e215392ac2be"
      },
      "execution_count": 18,
      "outputs": [
        {
          "output_type": "stream",
          "name": "stdout",
          "text": [
            "tensor([11, 12, 13, 14])\n",
            "tensor([11, 12, 13, 14])\n"
          ]
        }
      ]
    },
    {
      "cell_type": "code",
      "source": [
        "# Multiply tensor by 10\n",
        "print(tensor * 10)\n",
        "print(torch.mul(tensor,10))"
      ],
      "metadata": {
        "colab": {
          "base_uri": "https://localhost:8080/"
        },
        "id": "KkdRnWCuYsDb",
        "outputId": "aa89cab5-83e6-48c8-9d54-c351311e0de4"
      },
      "execution_count": 19,
      "outputs": [
        {
          "output_type": "stream",
          "name": "stdout",
          "text": [
            "tensor([10, 20, 30, 40])\n",
            "tensor([10, 20, 30, 40])\n"
          ]
        }
      ]
    },
    {
      "cell_type": "code",
      "source": [
        "# Subtract tensor by 10\n",
        "print(tensor - 10)\n",
        "print(torch.sub(tensor,10))"
      ],
      "metadata": {
        "colab": {
          "base_uri": "https://localhost:8080/"
        },
        "id": "8PRqbj0MYwST",
        "outputId": "7c972ca2-6026-4655-c79e-29078d7dfbd5"
      },
      "execution_count": 20,
      "outputs": [
        {
          "output_type": "stream",
          "name": "stdout",
          "text": [
            "tensor([-9, -8, -7, -6])\n",
            "tensor([-9, -8, -7, -6])\n"
          ]
        }
      ]
    },
    {
      "cell_type": "code",
      "source": [
        "# Divide tensor by 10\n",
        "print(tensor/2)\n",
        "print(torch.div(tensor,2))"
      ],
      "metadata": {
        "colab": {
          "base_uri": "https://localhost:8080/"
        },
        "id": "EJHsm790Y9Q8",
        "outputId": "87579713-5e37-4f5b-d7f8-5b97ab145999"
      },
      "execution_count": 21,
      "outputs": [
        {
          "output_type": "stream",
          "name": "stdout",
          "text": [
            "tensor([0.5000, 1.0000, 1.5000, 2.0000])\n",
            "tensor([0.5000, 1.0000, 1.5000, 2.0000])\n"
          ]
        }
      ]
    },
    {
      "cell_type": "markdown",
      "source": [
        "## Multiplication\n",
        "\n",
        "- element-wise (Hadamard Product)\n",
        "- matrix multiplication (Dot Product if 1D vector)"
      ],
      "metadata": {
        "id": "5g2ptvXvZZuG"
      }
    },
    {
      "cell_type": "code",
      "source": [
        "tensor1 = torch.arange(0,5,2)\n",
        "tensor2 = torch.arange(0,5,2)\n",
        "\n",
        "print(tensor1)\n",
        "print(tensor2)"
      ],
      "metadata": {
        "colab": {
          "base_uri": "https://localhost:8080/"
        },
        "id": "awSqpAnpZmKU",
        "outputId": "2dd0f1f4-e86f-4fd6-df0c-7da741201260"
      },
      "execution_count": 22,
      "outputs": [
        {
          "output_type": "stream",
          "name": "stdout",
          "text": [
            "tensor([0, 2, 4])\n",
            "tensor([0, 2, 4])\n"
          ]
        }
      ]
    },
    {
      "cell_type": "code",
      "source": [
        "# Element wise\n",
        "tensor1 * tensor2"
      ],
      "metadata": {
        "colab": {
          "base_uri": "https://localhost:8080/"
        },
        "id": "2iht9TIEaRbk",
        "outputId": "bf56e72b-9e44-4ae5-ebb4-a93709c0ea50"
      },
      "execution_count": 23,
      "outputs": [
        {
          "output_type": "execute_result",
          "data": {
            "text/plain": [
              "tensor([ 0,  4, 16])"
            ]
          },
          "metadata": {},
          "execution_count": 23
        }
      ]
    },
    {
      "cell_type": "code",
      "source": [
        "# Matrix multiplication\n",
        "%%time\n",
        "tensor3 = torch.matmul(tensor1,tensor2)\n",
        "tensor3"
      ],
      "metadata": {
        "colab": {
          "base_uri": "https://localhost:8080/"
        },
        "id": "oOBIHOLQa1OL",
        "outputId": "631a6eb2-4964-49df-c464-893c59af1362"
      },
      "execution_count": 24,
      "outputs": [
        {
          "output_type": "stream",
          "name": "stdout",
          "text": [
            "CPU times: user 0 ns, sys: 709 µs, total: 709 µs\n",
            "Wall time: 13.5 ms\n"
          ]
        },
        {
          "output_type": "execute_result",
          "data": {
            "text/plain": [
              "tensor(20)"
            ]
          },
          "metadata": {},
          "execution_count": 24
        }
      ]
    },
    {
      "cell_type": "code",
      "source": [
        "# Higher shape matrix multiplication\n",
        "t1 = torch.tensor([[1,2],\n",
        "                 [3,4],\n",
        "                 [5,6]])\n",
        "\n",
        "t2 = torch.tensor([[7,8],\n",
        "                 [9,10],\n",
        "                 [11,12]])\n",
        "t2 = t2.T\n",
        "print(t2)\n",
        "torch.matmul(t1,t2)"
      ],
      "metadata": {
        "id": "fNZZzV0JddZf",
        "outputId": "2463d671-d962-4791-bbb6-6c6e0e6cdc2e",
        "colab": {
          "base_uri": "https://localhost:8080/"
        }
      },
      "execution_count": 25,
      "outputs": [
        {
          "output_type": "stream",
          "name": "stdout",
          "text": [
            "tensor([[ 7,  9, 11],\n",
            "        [ 8, 10, 12]])\n"
          ]
        },
        {
          "output_type": "execute_result",
          "data": {
            "text/plain": [
              "tensor([[ 23,  29,  35],\n",
              "        [ 53,  67,  81],\n",
              "        [ 83, 105, 127]])"
            ]
          },
          "metadata": {},
          "execution_count": 25
        }
      ]
    },
    {
      "cell_type": "markdown",
      "source": [
        "## Tensor Aggregation"
      ],
      "metadata": {
        "id": "xf1_PRL6hdjz"
      }
    },
    {
      "cell_type": "code",
      "source": [
        "x = torch.arange(0,100,10, dtype=torch.float32)\n",
        "x"
      ],
      "metadata": {
        "id": "NlUQJ7EWhfmv",
        "outputId": "fec3aefa-7329-4539-93a7-51c1b5f33917",
        "colab": {
          "base_uri": "https://localhost:8080/"
        }
      },
      "execution_count": 26,
      "outputs": [
        {
          "output_type": "execute_result",
          "data": {
            "text/plain": [
              "tensor([ 0., 10., 20., 30., 40., 50., 60., 70., 80., 90.])"
            ]
          },
          "metadata": {},
          "execution_count": 26
        }
      ]
    },
    {
      "cell_type": "code",
      "source": [
        "x.max(), x.min()"
      ],
      "metadata": {
        "id": "vneMDXGghpJf",
        "outputId": "015c6c48-183d-4a21-ab88-cbc4fdf5ce79",
        "colab": {
          "base_uri": "https://localhost:8080/"
        }
      },
      "execution_count": 27,
      "outputs": [
        {
          "output_type": "execute_result",
          "data": {
            "text/plain": [
              "(tensor(90.), tensor(0.))"
            ]
          },
          "metadata": {},
          "execution_count": 27
        }
      ]
    },
    {
      "cell_type": "code",
      "source": [
        "# torch.mean requires float32 to work\n",
        "torch.mean(x)"
      ],
      "metadata": {
        "id": "UUVrF2FThtUj",
        "outputId": "3a4aad71-3ed9-48f0-c332-7ba4b27f4bb9",
        "colab": {
          "base_uri": "https://localhost:8080/"
        }
      },
      "execution_count": 28,
      "outputs": [
        {
          "output_type": "execute_result",
          "data": {
            "text/plain": [
              "tensor(45.)"
            ]
          },
          "metadata": {},
          "execution_count": 28
        }
      ]
    },
    {
      "cell_type": "code",
      "source": [
        "# Find the sum\n",
        "x.sum()"
      ],
      "metadata": {
        "id": "w92d9iBjiKGO",
        "outputId": "6640d196-9ff8-4528-c2c5-5d7eb83d92fe",
        "colab": {
          "base_uri": "https://localhost:8080/"
        }
      },
      "execution_count": 29,
      "outputs": [
        {
          "output_type": "execute_result",
          "data": {
            "text/plain": [
              "tensor(450.)"
            ]
          },
          "metadata": {},
          "execution_count": 29
        }
      ]
    },
    {
      "cell_type": "markdown",
      "source": [
        "## Find the positional min and max"
      ],
      "metadata": {
        "id": "VBPFoJNxiSmr"
      }
    },
    {
      "cell_type": "code",
      "source": [
        "x"
      ],
      "metadata": {
        "id": "XOL1yX2gicwF",
        "outputId": "9f50cd9b-e4ae-4395-c108-8c443facc902",
        "colab": {
          "base_uri": "https://localhost:8080/"
        }
      },
      "execution_count": 30,
      "outputs": [
        {
          "output_type": "execute_result",
          "data": {
            "text/plain": [
              "tensor([ 0., 10., 20., 30., 40., 50., 60., 70., 80., 90.])"
            ]
          },
          "metadata": {},
          "execution_count": 30
        }
      ]
    },
    {
      "cell_type": "code",
      "source": [
        "# Find the position of tensor with min value\n",
        "x.argmin()"
      ],
      "metadata": {
        "id": "AcvljpdOid1s",
        "outputId": "c586445a-3d9f-45cb-b050-650233ad640f",
        "colab": {
          "base_uri": "https://localhost:8080/"
        }
      },
      "execution_count": 31,
      "outputs": [
        {
          "output_type": "execute_result",
          "data": {
            "text/plain": [
              "tensor(0)"
            ]
          },
          "metadata": {},
          "execution_count": 31
        }
      ]
    },
    {
      "cell_type": "code",
      "source": [
        "x.argmax()"
      ],
      "metadata": {
        "id": "_KuTEJIyio-L",
        "outputId": "9bcafa25-8b61-4570-fdf0-170367640870",
        "colab": {
          "base_uri": "https://localhost:8080/"
        }
      },
      "execution_count": 32,
      "outputs": [
        {
          "output_type": "execute_result",
          "data": {
            "text/plain": [
              "tensor(9)"
            ]
          },
          "metadata": {},
          "execution_count": 32
        }
      ]
    },
    {
      "cell_type": "markdown",
      "source": [
        "## Reshaping, stacking, squeezing, unsqueezing tensors"
      ],
      "metadata": {
        "id": "Yy8bEFACiptk"
      }
    },
    {
      "cell_type": "code",
      "source": [
        "# Make a tensor\n",
        "x = torch.arange(1,10)\n",
        "x,x.shape"
      ],
      "metadata": {
        "id": "rm2vYBg3vJMs",
        "outputId": "6bc1b690-f34b-4e99-e59f-8b9ec95d968c",
        "colab": {
          "base_uri": "https://localhost:8080/"
        }
      },
      "execution_count": 33,
      "outputs": [
        {
          "output_type": "execute_result",
          "data": {
            "text/plain": [
              "(tensor([1, 2, 3, 4, 5, 6, 7, 8, 9]), torch.Size([9]))"
            ]
          },
          "metadata": {},
          "execution_count": 33
        }
      ]
    },
    {
      "cell_type": "code",
      "source": [
        "# Add an extra dimension\n",
        "x_reshape = x.reshape(1,9)\n",
        "x_reshape, x_reshape.shape"
      ],
      "metadata": {
        "id": "qbovyMjuv9kt",
        "outputId": "8fa65aad-f40c-4002-9337-789be3ccb6dc",
        "colab": {
          "base_uri": "https://localhost:8080/"
        }
      },
      "execution_count": 34,
      "outputs": [
        {
          "output_type": "execute_result",
          "data": {
            "text/plain": [
              "(tensor([[1, 2, 3, 4, 5, 6, 7, 8, 9]]), torch.Size([1, 9]))"
            ]
          },
          "metadata": {},
          "execution_count": 34
        }
      ]
    },
    {
      "cell_type": "code",
      "source": [
        "# Change the view\n",
        "z = x.view(1,9)\n",
        "z,z.shape"
      ],
      "metadata": {
        "id": "O93aqUpVwb7V",
        "outputId": "ab6bbb0e-cf65-44c8-d30f-29f862e2eac1",
        "colab": {
          "base_uri": "https://localhost:8080/"
        }
      },
      "execution_count": 35,
      "outputs": [
        {
          "output_type": "execute_result",
          "data": {
            "text/plain": [
              "(tensor([[1, 2, 3, 4, 5, 6, 7, 8, 9]]), torch.Size([1, 9]))"
            ]
          },
          "metadata": {},
          "execution_count": 35
        }
      ]
    },
    {
      "cell_type": "code",
      "source": [
        "# Changing z changes x (view of a tensor shares same memeory as original)\n",
        "z[:,0] = 5\n",
        "z,x"
      ],
      "metadata": {
        "id": "c0zwDA6Pw8wj",
        "outputId": "df027aaf-7277-451f-b553-b47185edfc14",
        "colab": {
          "base_uri": "https://localhost:8080/"
        }
      },
      "execution_count": 36,
      "outputs": [
        {
          "output_type": "execute_result",
          "data": {
            "text/plain": [
              "(tensor([[5, 2, 3, 4, 5, 6, 7, 8, 9]]), tensor([5, 2, 3, 4, 5, 6, 7, 8, 9]))"
            ]
          },
          "metadata": {},
          "execution_count": 36
        }
      ]
    },
    {
      "cell_type": "code",
      "source": [
        "# Stack tensors on top of each other using torch.stack\n",
        "x_stack = torch.stack([x,x,x,x], dim=0)\n",
        "x_stack"
      ],
      "metadata": {
        "id": "YqV9Oi_OxF7z",
        "outputId": "87266d74-c708-4f17-e740-39f17dd1e7ae",
        "colab": {
          "base_uri": "https://localhost:8080/"
        }
      },
      "execution_count": 37,
      "outputs": [
        {
          "output_type": "execute_result",
          "data": {
            "text/plain": [
              "tensor([[5, 2, 3, 4, 5, 6, 7, 8, 9],\n",
              "        [5, 2, 3, 4, 5, 6, 7, 8, 9],\n",
              "        [5, 2, 3, 4, 5, 6, 7, 8, 9],\n",
              "        [5, 2, 3, 4, 5, 6, 7, 8, 9]])"
            ]
          },
          "metadata": {},
          "execution_count": 37
        }
      ]
    },
    {
      "cell_type": "code",
      "source": [
        "# torch.squeeze() - remove all 1 dimensions\n",
        "x = torch.rand(1,3,4,1)\n",
        "print(x,x.shape)\n",
        "x_squeeze = x.squeeze()\n",
        "print(x_squeeze,x_squeeze.shape)"
      ],
      "metadata": {
        "id": "EVeCe0YHzF3W",
        "outputId": "602d1575-08f6-4f81-fe99-c79e2f3be675",
        "colab": {
          "base_uri": "https://localhost:8080/"
        }
      },
      "execution_count": 38,
      "outputs": [
        {
          "output_type": "stream",
          "name": "stdout",
          "text": [
            "tensor([[[[0.1233],\n",
            "          [0.9771],\n",
            "          [0.9512],\n",
            "          [0.5082]],\n",
            "\n",
            "         [[0.4637],\n",
            "          [0.3530],\n",
            "          [0.5467],\n",
            "          [0.0827]],\n",
            "\n",
            "         [[0.2614],\n",
            "          [0.4426],\n",
            "          [0.6878],\n",
            "          [0.2833]]]]) torch.Size([1, 3, 4, 1])\n",
            "tensor([[0.1233, 0.9771, 0.9512, 0.5082],\n",
            "        [0.4637, 0.3530, 0.5467, 0.0827],\n",
            "        [0.2614, 0.4426, 0.6878, 0.2833]]) torch.Size([3, 4])\n"
          ]
        }
      ]
    },
    {
      "cell_type": "code",
      "source": [
        "# torch.unsqueeze() - add dimension of 1, dim = index of added 1 dimension\n",
        "x_unsqueeze = x_squeeze.unsqueeze(dim=2)\n",
        "x_unsqueeze.shape, x_unsqueeze"
      ],
      "metadata": {
        "id": "OfnVh-SYzdKZ",
        "outputId": "c7381f9e-be68-41e3-9c3b-f398fb5292cb",
        "colab": {
          "base_uri": "https://localhost:8080/"
        }
      },
      "execution_count": 39,
      "outputs": [
        {
          "output_type": "execute_result",
          "data": {
            "text/plain": [
              "(torch.Size([3, 4, 1]),\n",
              " tensor([[[0.1233],\n",
              "          [0.9771],\n",
              "          [0.9512],\n",
              "          [0.5082]],\n",
              " \n",
              "         [[0.4637],\n",
              "          [0.3530],\n",
              "          [0.5467],\n",
              "          [0.0827]],\n",
              " \n",
              "         [[0.2614],\n",
              "          [0.4426],\n",
              "          [0.6878],\n",
              "          [0.2833]]]))"
            ]
          },
          "metadata": {},
          "execution_count": 39
        }
      ]
    },
    {
      "cell_type": "code",
      "source": [
        "# torch.permute() - change the order of parameters, feed in array, then desired index\n",
        "x_orig = torch.rand(224,224,3)\n",
        "print(x_orig.shape)\n",
        "\n",
        "# rearrange the axes\n",
        "x_permute = x_orig.permute(2,0,1)\n",
        "print(x_permute.shape)"
      ],
      "metadata": {
        "id": "mMpouWBG1AIl",
        "outputId": "fa7615fa-5b25-4af0-cdea-3c1ab21b01aa",
        "colab": {
          "base_uri": "https://localhost:8080/"
        }
      },
      "execution_count": 40,
      "outputs": [
        {
          "output_type": "stream",
          "name": "stdout",
          "text": [
            "torch.Size([224, 224, 3])\n",
            "torch.Size([3, 224, 224])\n"
          ]
        }
      ]
    },
    {
      "cell_type": "code",
      "source": [
        "# permute shares same view as orig\n",
        "x_orig[0,0,0] = 999\n",
        "x_orig[0,0,0],x_permute[0,0,0]"
      ],
      "metadata": {
        "id": "DX3Tz49R1OTW",
        "outputId": "4b993656-8570-4b6b-d2fd-e5e9dbabcf49",
        "colab": {
          "base_uri": "https://localhost:8080/"
        }
      },
      "execution_count": 41,
      "outputs": [
        {
          "output_type": "execute_result",
          "data": {
            "text/plain": [
              "(tensor(999.), tensor(999.))"
            ]
          },
          "metadata": {},
          "execution_count": 41
        }
      ]
    },
    {
      "cell_type": "markdown",
      "source": [
        "##Indexing with Pytorch"
      ],
      "metadata": {
        "id": "GpHEsS7j2AQk"
      }
    },
    {
      "cell_type": "code",
      "source": [
        "x = torch.arange(1,11).reshape(1,2,5)\n",
        "x"
      ],
      "metadata": {
        "id": "hNNFnm_o2Cw0",
        "outputId": "819fbee3-b9c1-41c2-91ee-a9988561d9ea",
        "colab": {
          "base_uri": "https://localhost:8080/"
        }
      },
      "execution_count": 42,
      "outputs": [
        {
          "output_type": "execute_result",
          "data": {
            "text/plain": [
              "tensor([[[ 1,  2,  3,  4,  5],\n",
              "         [ 6,  7,  8,  9, 10]]])"
            ]
          },
          "metadata": {},
          "execution_count": 42
        }
      ]
    },
    {
      "cell_type": "code",
      "source": [
        "# commas depend on the shape of your tensor, it goes by dimension in order\n",
        "# from 0th dimension to (n-1)th dimension where n is len(tensor)\n",
        "x[:,1,0:2]"
      ],
      "metadata": {
        "id": "lwrfkEeT215c",
        "outputId": "04071cb1-0e57-4230-9430-a3baeebe6656",
        "colab": {
          "base_uri": "https://localhost:8080/"
        }
      },
      "execution_count": 45,
      "outputs": [
        {
          "output_type": "execute_result",
          "data": {
            "text/plain": [
              "tensor([[6, 7]])"
            ]
          },
          "metadata": {},
          "execution_count": 45
        }
      ]
    },
    {
      "cell_type": "code",
      "source": [
        "# if doing x[0][0][0], could also do x[0,0,0]\n",
        "x[0][0][0],x[0,0,0]"
      ],
      "metadata": {
        "id": "gZMTQn8zlnHp",
        "outputId": "dc8fc41d-0976-43a5-a1ec-a72a93367762",
        "colab": {
          "base_uri": "https://localhost:8080/"
        }
      },
      "execution_count": 46,
      "outputs": [
        {
          "output_type": "execute_result",
          "data": {
            "text/plain": [
              "(tensor(1), tensor(1))"
            ]
          },
          "metadata": {},
          "execution_count": 46
        }
      ]
    },
    {
      "cell_type": "markdown",
      "source": [
        "## PyTorch tensors & NumPy\n",
        "\n",
        "NumPy is used for numerical computations,\n",
        "can convert from numpy to torch and vice versa"
      ],
      "metadata": {
        "id": "SM7DqlJOlyTM"
      }
    },
    {
      "cell_type": "code",
      "source": [
        "# NumPy array to tensor, numpy default is float64 while torch is float32\n",
        "array = np.arange(1.0,8.0)\n",
        "tensor = torch.from_numpy(array).type(torch.float32)\n",
        "tensor"
      ],
      "metadata": {
        "id": "QznWw0DOmZCI",
        "outputId": "1846950a-69d4-4d2c-9381-c3c4b03cbec5",
        "colab": {
          "base_uri": "https://localhost:8080/"
        }
      },
      "execution_count": 58,
      "outputs": [
        {
          "output_type": "execute_result",
          "data": {
            "text/plain": [
              "tensor([1., 2., 3., 4., 5., 6., 7.])"
            ]
          },
          "metadata": {},
          "execution_count": 58
        }
      ]
    },
    {
      "cell_type": "code",
      "source": [
        "tensor.dtype"
      ],
      "metadata": {
        "id": "d9YBlC8Ym1Lx",
        "outputId": "e8b7d3f2-74b1-4419-9722-3c1b7de94869",
        "colab": {
          "base_uri": "https://localhost:8080/"
        }
      },
      "execution_count": 59,
      "outputs": [
        {
          "output_type": "execute_result",
          "data": {
            "text/plain": [
              "torch.float32"
            ]
          },
          "metadata": {},
          "execution_count": 59
        }
      ]
    },
    {
      "cell_type": "code",
      "source": [
        "# new tensor in memory when using from_numpy\n",
        "array = array + 1\n",
        "array,tensor"
      ],
      "metadata": {
        "id": "xbQDuHOzm5Wy",
        "outputId": "3bba0f9b-cbb2-43b4-96d8-2202d4202caf",
        "colab": {
          "base_uri": "https://localhost:8080/"
        }
      },
      "execution_count": 60,
      "outputs": [
        {
          "output_type": "execute_result",
          "data": {
            "text/plain": [
              "(array([2., 3., 4., 5., 6., 7., 8.]), tensor([1., 2., 3., 4., 5., 6., 7.]))"
            ]
          },
          "metadata": {},
          "execution_count": 60
        }
      ]
    },
    {
      "cell_type": "code",
      "source": [
        "# Tensor to NumPy array\n",
        "tensor = torch.zeros(9,4)\n",
        "numpy_tensor = tensor.numpy()\n",
        "tensor,numpy_tensor"
      ],
      "metadata": {
        "id": "yaQT0gZWnLCl",
        "outputId": "75bc7cf6-f04f-44e4-ff26-5803154ad497",
        "colab": {
          "base_uri": "https://localhost:8080/"
        }
      },
      "execution_count": 61,
      "outputs": [
        {
          "output_type": "execute_result",
          "data": {
            "text/plain": [
              "(tensor([[0., 0., 0., 0.],\n",
              "         [0., 0., 0., 0.],\n",
              "         [0., 0., 0., 0.],\n",
              "         [0., 0., 0., 0.],\n",
              "         [0., 0., 0., 0.],\n",
              "         [0., 0., 0., 0.],\n",
              "         [0., 0., 0., 0.],\n",
              "         [0., 0., 0., 0.],\n",
              "         [0., 0., 0., 0.]]),\n",
              " array([[0., 0., 0., 0.],\n",
              "        [0., 0., 0., 0.],\n",
              "        [0., 0., 0., 0.],\n",
              "        [0., 0., 0., 0.],\n",
              "        [0., 0., 0., 0.],\n",
              "        [0., 0., 0., 0.],\n",
              "        [0., 0., 0., 0.],\n",
              "        [0., 0., 0., 0.],\n",
              "        [0., 0., 0., 0.]], dtype=float32))"
            ]
          },
          "metadata": {},
          "execution_count": 61
        }
      ]
    },
    {
      "cell_type": "code",
      "source": [
        "# new numpy array also has new memory\n",
        "tensor = tensor + 1\n",
        "tensor,numpy_tensor"
      ],
      "metadata": {
        "id": "bX27k5wfnYho",
        "outputId": "752d1a0d-037b-47ca-c3d7-37be3c264e4f",
        "colab": {
          "base_uri": "https://localhost:8080/"
        }
      },
      "execution_count": 63,
      "outputs": [
        {
          "output_type": "execute_result",
          "data": {
            "text/plain": [
              "(tensor([[2., 2., 2., 2.],\n",
              "         [2., 2., 2., 2.],\n",
              "         [2., 2., 2., 2.],\n",
              "         [2., 2., 2., 2.],\n",
              "         [2., 2., 2., 2.],\n",
              "         [2., 2., 2., 2.],\n",
              "         [2., 2., 2., 2.],\n",
              "         [2., 2., 2., 2.],\n",
              "         [2., 2., 2., 2.]]),\n",
              " array([[1., 1., 1., 1.],\n",
              "        [1., 1., 1., 1.],\n",
              "        [1., 1., 1., 1.],\n",
              "        [1., 1., 1., 1.],\n",
              "        [1., 1., 1., 1.],\n",
              "        [1., 1., 1., 1.],\n",
              "        [1., 1., 1., 1.],\n",
              "        [1., 1., 1., 1.],\n",
              "        [1., 1., 1., 1.]], dtype=float32))"
            ]
          },
          "metadata": {},
          "execution_count": 63
        }
      ]
    },
    {
      "cell_type": "markdown",
      "source": [
        "## Reproducability (trying to take random out of random)\n"
      ],
      "metadata": {
        "id": "hjOEZFlBntMS"
      }
    },
    {
      "cell_type": "code",
      "source": [
        "t1 = torch.rand(3,3)\n",
        "t2 = torch.rand(3,3)\n",
        "t1,t2"
      ],
      "metadata": {
        "id": "sbmAnQbjn0uK",
        "outputId": "d8da7806-d9c4-45b0-9237-bf87428de3d0",
        "colab": {
          "base_uri": "https://localhost:8080/"
        }
      },
      "execution_count": 70,
      "outputs": [
        {
          "output_type": "execute_result",
          "data": {
            "text/plain": [
              "(tensor([[0.3946, 0.4742, 0.7651],\n",
              "         [0.4885, 0.2533, 0.0493],\n",
              "         [0.8784, 0.1922, 0.9254]]),\n",
              " tensor([[0.9261, 0.4325, 0.7545],\n",
              "         [0.1540, 0.2870, 0.9908],\n",
              "         [0.6460, 0.6271, 0.7494]]))"
            ]
          },
          "metadata": {},
          "execution_count": 70
        }
      ]
    },
    {
      "cell_type": "code",
      "source": [
        "# Set random seed\n",
        "RAND_SEED = 42\n",
        "torch.manual_seed(RAND_SEED)\n",
        "t1 = torch.rand(3,3)\n",
        "\n",
        "torch.manual_seed(RAND_SEED)\n",
        "t2 = torch.rand(3,3)\n",
        "t1,t2"
      ],
      "metadata": {
        "id": "iUQcihAcog0Z",
        "outputId": "1adbd9a8-9a57-4bcf-f76b-302874f8be7c",
        "colab": {
          "base_uri": "https://localhost:8080/"
        }
      },
      "execution_count": 72,
      "outputs": [
        {
          "output_type": "execute_result",
          "data": {
            "text/plain": [
              "(tensor([[0.8823, 0.9150, 0.3829],\n",
              "         [0.9593, 0.3904, 0.6009],\n",
              "         [0.2566, 0.7936, 0.9408]]),\n",
              " tensor([[0.8823, 0.9150, 0.3829],\n",
              "         [0.9593, 0.3904, 0.6009],\n",
              "         [0.2566, 0.7936, 0.9408]]))"
            ]
          },
          "metadata": {},
          "execution_count": 72
        }
      ]
    },
    {
      "cell_type": "markdown",
      "source": [
        "## Running tensors and PyTorch objects on GPU\n",
        "gpu makes computational calculations faster using CUDA and NVIDIA hardware and pytorch behind the scenes"
      ],
      "metadata": {
        "id": "cOOgmghypc-b"
      }
    },
    {
      "cell_type": "code",
      "source": [],
      "metadata": {
        "id": "RE4PfOwgp2iM",
        "outputId": "37b014a9-0b6c-4f06-db2a-e3dcb6a1436b",
        "colab": {
          "base_uri": "https://localhost:8080/"
        }
      },
      "execution_count": 73,
      "outputs": [
        {
          "output_type": "stream",
          "name": "stdout",
          "text": [
            "/bin/bash: line 1: nvidia-smi: command not found\n"
          ]
        }
      ]
    }
  ]
}