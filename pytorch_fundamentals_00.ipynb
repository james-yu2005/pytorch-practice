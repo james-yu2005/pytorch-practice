{
  "nbformat": 4,
  "nbformat_minor": 0,
  "metadata": {
    "colab": {
      "provenance": []
    },
    "kernelspec": {
      "name": "python3",
      "display_name": "Python 3"
    },
    "language_info": {
      "name": "python"
    }
  },
  "cells": [
    {
      "cell_type": "code",
      "execution_count": 1,
      "metadata": {
        "colab": {
          "base_uri": "https://localhost:8080/"
        },
        "id": "hyUJo3wRVoUZ",
        "outputId": "79fd7e1b-1442-4de3-b56f-c393f9f5e3e5"
      },
      "outputs": [
        {
          "output_type": "stream",
          "name": "stdout",
          "text": [
            "2.8.0+cu126\n"
          ]
        }
      ],
      "source": [
        "import torch\n",
        "import pandas as pd\n",
        "import matplotlib.pyplot as plt\n",
        "import numpy as np\n",
        "print(torch.__version__)"
      ]
    },
    {
      "cell_type": "markdown",
      "source": [
        "## Intro to Tensors\n",
        "\n",
        "PyTorch tensors are created using 'torch.Tensor()'"
      ],
      "metadata": {
        "id": "AZdjyVY2WqQh"
      }
    },
    {
      "cell_type": "code",
      "source": [
        "# Create a tensor using torch.tensor(), can use dtype to specify datatype, can specify that data is stored on gpu which runs faster\n",
        "scalar = torch.tensor(190)\n",
        "print(scalar)\n",
        "\n",
        "vector = torch.tensor([19,5])\n",
        "print(vector)\n",
        "\n",
        "matrix = torch.tensor([[1.,2.],\n",
        "                      [3.,4.]], dtype=torch.float16)\n",
        "print(matrix)\n",
        "\n",
        "tensor = torch.tensor([[[1,2,3],\n",
        "                        [3,6,9],\n",
        "                        [1,7,9]]], dtype=torch.int32)\n",
        "print(tensor)"
      ],
      "metadata": {
        "colab": {
          "base_uri": "https://localhost:8080/"
        },
        "id": "vc-uHAtlW2Zy",
        "outputId": "e496b337-a48b-4851-cd72-8f9696d6d3f8"
      },
      "execution_count": 34,
      "outputs": [
        {
          "output_type": "stream",
          "name": "stdout",
          "text": [
            "tensor(190)\n",
            "tensor([19,  5])\n",
            "tensor([[1., 2.],\n",
            "        [3., 4.]], dtype=torch.float16)\n",
            "tensor([[[1, 2, 3],\n",
            "         [3, 6, 9],\n",
            "         [1, 7, 9]]], dtype=torch.int32)\n"
          ]
        }
      ]
    },
    {
      "cell_type": "code",
      "source": [
        "# Can figure out dimensions using torch.tensor.ndim and shape using torch.tensor.shape\n",
        "print(scalar.ndim)\n",
        "print(scalar.shape)\n",
        "\n",
        "print(tensor.ndim)\n",
        "print(tensor.shape)"
      ],
      "metadata": {
        "colab": {
          "base_uri": "https://localhost:8080/"
        },
        "id": "L8xB1pKyXGce",
        "outputId": "67a4d29d-6824-478a-e68f-8a485512434b"
      },
      "execution_count": 35,
      "outputs": [
        {
          "output_type": "stream",
          "name": "stdout",
          "text": [
            "0\n",
            "torch.Size([])\n",
            "3\n",
            "torch.Size([1, 3, 3])\n"
          ]
        }
      ]
    },
    {
      "cell_type": "code",
      "source": [
        "# Get tensor back as python object using torch.tensor.item() --> only works on scalar\n",
        "print(scalar.item())"
      ],
      "metadata": {
        "colab": {
          "base_uri": "https://localhost:8080/"
        },
        "id": "kTxQPTj7XSr6",
        "outputId": "c1d5ac63-42dd-4e65-c726-710a33c1649e"
      },
      "execution_count": 38,
      "outputs": [
        {
          "output_type": "stream",
          "name": "stdout",
          "text": [
            "190\n"
          ]
        }
      ]
    }
  ]
}