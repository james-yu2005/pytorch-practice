{
  "nbformat": 4,
  "nbformat_minor": 0,
  "metadata": {
    "colab": {
      "provenance": [],
      "authorship_tag": "ABX9TyN09a+f/tH+fYYGxb/rkug3",
      "include_colab_link": true
    },
    "kernelspec": {
      "name": "python3",
      "display_name": "Python 3"
    },
    "language_info": {
      "name": "python"
    }
  },
  "cells": [
    {
      "cell_type": "markdown",
      "metadata": {
        "id": "view-in-github",
        "colab_type": "text"
      },
      "source": [
        "<a href=\"https://colab.research.google.com/github/james-yu2005/pytorch-practice/blob/main/pytorch_fundamentals_00.ipynb\" target=\"_parent\"><img src=\"https://colab.research.google.com/assets/colab-badge.svg\" alt=\"Open In Colab\"/></a>"
      ]
    },
    {
      "cell_type": "code",
      "execution_count": 3,
      "metadata": {
        "colab": {
          "base_uri": "https://localhost:8080/"
        },
        "id": "hyUJo3wRVoUZ",
        "outputId": "30e73084-d777-42d9-8223-325235f3a332"
      },
      "outputs": [
        {
          "output_type": "stream",
          "name": "stdout",
          "text": [
            "2.8.0+cu126\n"
          ]
        }
      ],
      "source": [
        "import torch\n",
        "import pandas as pd\n",
        "import matplotlib.pyplot as plt\n",
        "import numpy as np\n",
        "print(torch.__version__)"
      ]
    },
    {
      "cell_type": "markdown",
      "source": [
        "## Intro to Tensors\n",
        "\n",
        "PyTorch tensors are created using 'torch.Tensor()'\n",
        "\n",
        "Matrix and Tensors are often uppercase while vectors and scalars are lowercase"
      ],
      "metadata": {
        "id": "AZdjyVY2WqQh"
      }
    },
    {
      "cell_type": "code",
      "source": [
        "# Create a tensor using torch.tensor(), can use dtype to specify datatype, can specify that data is stored on gpu which runs faster\n",
        "scalar = torch.tensor(190)\n",
        "print(scalar)\n",
        "\n",
        "vector = torch.tensor([19,5])\n",
        "print(vector)\n",
        "\n",
        "matrix = torch.tensor([[1.,2.],\n",
        "                      [3.,4.]], dtype=torch.float16)\n",
        "print(matrix)\n",
        "\n",
        "tensor = torch.tensor([[[1,2,3],\n",
        "                        [3,6,9],\n",
        "                        [1,7,9]]], dtype=torch.int32)\n",
        "print(tensor)"
      ],
      "metadata": {
        "colab": {
          "base_uri": "https://localhost:8080/"
        },
        "id": "vc-uHAtlW2Zy",
        "outputId": "dc74616f-12b6-45bf-b04d-fcc332cc42f0"
      },
      "execution_count": 4,
      "outputs": [
        {
          "output_type": "stream",
          "name": "stdout",
          "text": [
            "tensor(190)\n",
            "tensor([19,  5])\n",
            "tensor([[1., 2.],\n",
            "        [3., 4.]], dtype=torch.float16)\n",
            "tensor([[[1, 2, 3],\n",
            "         [3, 6, 9],\n",
            "         [1, 7, 9]]], dtype=torch.int32)\n"
          ]
        }
      ]
    },
    {
      "cell_type": "code",
      "source": [
        "# Can figure out dimensions using torch.tensor.ndim and shape using torch.tensor.shape\n",
        "print(scalar.ndim)\n",
        "print(scalar.shape)\n",
        "\n",
        "print(tensor.ndim)\n",
        "print(tensor.shape)"
      ],
      "metadata": {
        "colab": {
          "base_uri": "https://localhost:8080/"
        },
        "id": "L8xB1pKyXGce",
        "outputId": "1bc8668e-08e7-44a8-9dd3-7eab6df7cccc"
      },
      "execution_count": 5,
      "outputs": [
        {
          "output_type": "stream",
          "name": "stdout",
          "text": [
            "0\n",
            "torch.Size([])\n",
            "3\n",
            "torch.Size([1, 3, 3])\n"
          ]
        }
      ]
    },
    {
      "cell_type": "code",
      "source": [
        "# Get tensor back as python object using torch.tensor.item() --> only works on scalar\n",
        "print(scalar.item())"
      ],
      "metadata": {
        "colab": {
          "base_uri": "https://localhost:8080/"
        },
        "id": "kTxQPTj7XSr6",
        "outputId": "befb5544-fd60-467e-dee8-5e130b162ece"
      },
      "execution_count": 6,
      "outputs": [
        {
          "output_type": "stream",
          "name": "stdout",
          "text": [
            "190\n"
          ]
        }
      ]
    },
    {
      "cell_type": "markdown",
      "source": [
        "## Random Tensors\n",
        "\n",
        "Neural networks learn start with tensors with random numbers and adjust based on the data to better represent them as the model gets trained"
      ],
      "metadata": {
        "id": "ajy8Ck5ZOrDi"
      }
    },
    {
      "cell_type": "code",
      "source": [
        "# Random tensor of size (3,4)\n",
        "\n",
        "rand_tensor = torch.rand(3,4, dtype=torch.float16)\n",
        "rand_tensor"
      ],
      "metadata": {
        "id": "azZ-vWRHOyEc",
        "outputId": "05e3cf0a-fd66-43ec-a7f0-f0a562e6b16d",
        "colab": {
          "base_uri": "https://localhost:8080/"
        }
      },
      "execution_count": 7,
      "outputs": [
        {
          "output_type": "execute_result",
          "data": {
            "text/plain": [
              "tensor([[0.3301, 0.1865, 0.3501, 0.2646],\n",
              "        [0.1885, 0.5649, 0.5552, 0.8916],\n",
              "        [0.0361, 0.3008, 0.3789, 0.9507]], dtype=torch.float16)"
            ]
          },
          "metadata": {},
          "execution_count": 7
        }
      ]
    },
    {
      "cell_type": "code",
      "source": [
        "print(rand_tensor.ndim)\n",
        "print(rand_tensor.shape)"
      ],
      "metadata": {
        "id": "7S6mxvu6PTJO",
        "outputId": "d95c00f0-eee7-4a54-d448-a314bc5f1016",
        "colab": {
          "base_uri": "https://localhost:8080/"
        }
      },
      "execution_count": 8,
      "outputs": [
        {
          "output_type": "stream",
          "name": "stdout",
          "text": [
            "2\n",
            "torch.Size([3, 4])\n"
          ]
        }
      ]
    },
    {
      "cell_type": "code",
      "source": [
        "image_size_tensor = torch.rand(size=(224,224,3))\n",
        "image_size_tensor.shape"
      ],
      "metadata": {
        "id": "066R6JAHPi3L",
        "outputId": "baf47739-c1b8-431c-f06e-6bf29299f4e4",
        "colab": {
          "base_uri": "https://localhost:8080/"
        }
      },
      "execution_count": 9,
      "outputs": [
        {
          "output_type": "execute_result",
          "data": {
            "text/plain": [
              "torch.Size([224, 224, 3])"
            ]
          },
          "metadata": {},
          "execution_count": 9
        }
      ]
    },
    {
      "cell_type": "markdown",
      "source": [
        "## Zeros and Ones"
      ],
      "metadata": {
        "id": "-TNmwTi8QFgk"
      }
    },
    {
      "cell_type": "code",
      "source": [
        "# Create a tensor of all zeroes\n",
        "zeros = torch.zeros(3,4)\n",
        "zeros"
      ],
      "metadata": {
        "id": "3aWvEcF-QG5p",
        "outputId": "26394991-f90e-4821-aa39-1b54f6161d67",
        "colab": {
          "base_uri": "https://localhost:8080/"
        }
      },
      "execution_count": 10,
      "outputs": [
        {
          "output_type": "execute_result",
          "data": {
            "text/plain": [
              "tensor([[0., 0., 0., 0.],\n",
              "        [0., 0., 0., 0.],\n",
              "        [0., 0., 0., 0.]])"
            ]
          },
          "metadata": {},
          "execution_count": 10
        }
      ]
    },
    {
      "cell_type": "code",
      "source": [
        "# Note that this is Hadamard Product and not matrix multiplication\n",
        "\n",
        "zeros*rand_tensor"
      ],
      "metadata": {
        "id": "j2IK8SvQQami",
        "outputId": "16b99b1c-751a-49a3-eae9-adb86d0fa1fa",
        "colab": {
          "base_uri": "https://localhost:8080/"
        }
      },
      "execution_count": 11,
      "outputs": [
        {
          "output_type": "execute_result",
          "data": {
            "text/plain": [
              "tensor([[0., 0., 0., 0.],\n",
              "        [0., 0., 0., 0.],\n",
              "        [0., 0., 0., 0.]])"
            ]
          },
          "metadata": {},
          "execution_count": 11
        }
      ]
    },
    {
      "cell_type": "code",
      "source": [
        "# Create a tensor of all ones\n",
        "ones = torch.ones(3,4)\n",
        "ones"
      ],
      "metadata": {
        "colab": {
          "base_uri": "https://localhost:8080/"
        },
        "id": "T3QIWGSfQ6VA",
        "outputId": "75b4b573-6c5c-4c9a-950c-08e432d66a00"
      },
      "execution_count": 12,
      "outputs": [
        {
          "output_type": "execute_result",
          "data": {
            "text/plain": [
              "tensor([[1., 1., 1., 1.],\n",
              "        [1., 1., 1., 1.],\n",
              "        [1., 1., 1., 1.]])"
            ]
          },
          "metadata": {},
          "execution_count": 12
        }
      ]
    },
    {
      "cell_type": "code",
      "source": [
        "# Default is torch.float32\n",
        "ones.dtype"
      ],
      "metadata": {
        "colab": {
          "base_uri": "https://localhost:8080/"
        },
        "id": "I2CN4Jn0RGxg",
        "outputId": "8f069ac3-990d-45e0-d9bb-cfa6e71bbd8b"
      },
      "execution_count": 13,
      "outputs": [
        {
          "output_type": "execute_result",
          "data": {
            "text/plain": [
              "torch.float32"
            ]
          },
          "metadata": {},
          "execution_count": 13
        }
      ]
    },
    {
      "cell_type": "markdown",
      "source": [
        "## Creating a range of tensors and tensors-like"
      ],
      "metadata": {
        "id": "2KcJJt01RLhK"
      }
    },
    {
      "cell_type": "code",
      "source": [
        "# torch.range()\n",
        "torch_range = torch.arange(0,10,1)\n",
        "torch_range"
      ],
      "metadata": {
        "colab": {
          "base_uri": "https://localhost:8080/"
        },
        "id": "V_rHxSHCRN8N",
        "outputId": "99a8d37f-ee66-49cf-c56a-db2855a64dbc"
      },
      "execution_count": 19,
      "outputs": [
        {
          "output_type": "execute_result",
          "data": {
            "text/plain": [
              "tensor([0, 1, 2, 3, 4, 5, 6, 7, 8, 9])"
            ]
          },
          "metadata": {},
          "execution_count": 19
        }
      ]
    },
    {
      "cell_type": "code",
      "source": [
        "# Creating tensors like\n",
        "ten_zeros = torch.zeros_like(torch_range)\n",
        "ten_zeros"
      ],
      "metadata": {
        "colab": {
          "base_uri": "https://localhost:8080/"
        },
        "id": "WdcYrZEHRjF7",
        "outputId": "de3713c6-decd-4971-db7a-d5dc46ec047a"
      },
      "execution_count": 20,
      "outputs": [
        {
          "output_type": "execute_result",
          "data": {
            "text/plain": [
              "tensor([0, 0, 0, 0, 0, 0, 0, 0, 0, 0])"
            ]
          },
          "metadata": {},
          "execution_count": 20
        }
      ]
    },
    {
      "cell_type": "markdown",
      "source": [
        "## Tensor Datatypes"
      ],
      "metadata": {
        "id": "v44cc5uSSAEJ"
      }
    },
    {
      "cell_type": "code",
      "source": [
        "float_32_tensor = torch.tensor([[1,2],[3,4]],\n",
        "                               dtype=torch.float32,\n",
        "                               device=None,\n",
        "                               requires_grad=False)\n",
        "float_32_tensor"
      ],
      "metadata": {
        "colab": {
          "base_uri": "https://localhost:8080/"
        },
        "id": "sT-UzCheSMZw",
        "outputId": "76cd2a35-d55c-477b-e1e8-335f878f687d"
      },
      "execution_count": 37,
      "outputs": [
        {
          "output_type": "execute_result",
          "data": {
            "text/plain": [
              "tensor([[1., 2.],\n",
              "        [3., 4.]])"
            ]
          },
          "metadata": {},
          "execution_count": 37
        }
      ]
    },
    {
      "cell_type": "code",
      "source": [
        "float_16_tensor = torch.tensor([[5,6],[7,8]],\n",
        "                               dtype=torch.float16)"
      ],
      "metadata": {
        "id": "EUksEzZySZVF"
      },
      "execution_count": 38,
      "outputs": []
    },
    {
      "cell_type": "code",
      "source": [
        "float_16_tensor * float_32_tensor"
      ],
      "metadata": {
        "colab": {
          "base_uri": "https://localhost:8080/"
        },
        "id": "fHap0V0FTClk",
        "outputId": "f921eb43-c25e-4f4e-c1b2-256f382ad3ad"
      },
      "execution_count": 39,
      "outputs": [
        {
          "output_type": "execute_result",
          "data": {
            "text/plain": [
              "tensor([[ 5., 12.],\n",
              "        [21., 32.]])"
            ]
          },
          "metadata": {},
          "execution_count": 39
        }
      ]
    },
    {
      "cell_type": "code",
      "source": [
        "# Can change datatype using torch.type()\n",
        "float_16_tensor.type(torch.float64)"
      ],
      "metadata": {
        "colab": {
          "base_uri": "https://localhost:8080/"
        },
        "id": "_XqbAEB_TUIX",
        "outputId": "7fec06d2-79ed-4cfc-c158-f92f134758a7"
      },
      "execution_count": 34,
      "outputs": [
        {
          "output_type": "execute_result",
          "data": {
            "text/plain": [
              "tensor([[5., 6.],\n",
              "        [7., 8.]], dtype=torch.float64)"
            ]
          },
          "metadata": {},
          "execution_count": 34
        }
      ]
    },
    {
      "cell_type": "markdown",
      "source": [
        "## Manipulating tensors\n",
        "\n",
        "- addition\n",
        "- subtraction\n",
        "- multiplication (Hadamard product)\n",
        "- division\n",
        "- matrix multiplication\n"
      ],
      "metadata": {
        "id": "mFB_D5hdTg-m"
      }
    },
    {
      "cell_type": "code",
      "source": [
        "# Create a tensor\n",
        "tensor = torch.tensor([1,2,3,4])\n",
        "print(tensor + 10)\n",
        "print(torch.add(tensor,10))"
      ],
      "metadata": {
        "colab": {
          "base_uri": "https://localhost:8080/"
        },
        "id": "kya6qT7mYnGN",
        "outputId": "eb30b691-7474-4a91-910a-b48f3e602e19"
      },
      "execution_count": 46,
      "outputs": [
        {
          "output_type": "stream",
          "name": "stdout",
          "text": [
            "tensor([11, 12, 13, 14])\n",
            "tensor([11, 12, 13, 14])\n"
          ]
        }
      ]
    },
    {
      "cell_type": "code",
      "source": [
        "# Multiply tensor by 10\n",
        "print(tensor * 10)\n",
        "print(torch.mul(tensor,10))"
      ],
      "metadata": {
        "colab": {
          "base_uri": "https://localhost:8080/"
        },
        "id": "KkdRnWCuYsDb",
        "outputId": "b925e781-d98d-4e4c-e835-5160ae2e7973"
      },
      "execution_count": 45,
      "outputs": [
        {
          "output_type": "stream",
          "name": "stdout",
          "text": [
            "tensor([10, 20, 30, 40])\n",
            "tensor([10, 20, 30, 40])\n"
          ]
        }
      ]
    },
    {
      "cell_type": "code",
      "source": [
        "# Subtract tensor by 10\n",
        "print(tensor - 10)\n",
        "print(torch.sub(tensor,10))"
      ],
      "metadata": {
        "colab": {
          "base_uri": "https://localhost:8080/"
        },
        "id": "8PRqbj0MYwST",
        "outputId": "1efcaeb8-8011-4b6d-9e3b-ce4f2395e29c"
      },
      "execution_count": 47,
      "outputs": [
        {
          "output_type": "stream",
          "name": "stdout",
          "text": [
            "tensor([-9, -8, -7, -6])\n",
            "tensor([-9, -8, -7, -6])\n"
          ]
        }
      ]
    },
    {
      "cell_type": "code",
      "source": [
        "# Divide tensor by 10\n",
        "print(tensor/2)\n",
        "print(torch.div(tensor,2))"
      ],
      "metadata": {
        "colab": {
          "base_uri": "https://localhost:8080/"
        },
        "id": "EJHsm790Y9Q8",
        "outputId": "621c12e0-9751-4c8a-eaf2-5b206c95fe99"
      },
      "execution_count": 48,
      "outputs": [
        {
          "output_type": "stream",
          "name": "stdout",
          "text": [
            "tensor([0.5000, 1.0000, 1.5000, 2.0000])\n",
            "tensor([0.5000, 1.0000, 1.5000, 2.0000])\n"
          ]
        }
      ]
    },
    {
      "cell_type": "markdown",
      "source": [
        "## Multiplication\n",
        "\n",
        "- element-wise (Hadamard Product)\n",
        "- matrix multiplication (Dot Product if 1D vector)"
      ],
      "metadata": {
        "id": "5g2ptvXvZZuG"
      }
    },
    {
      "cell_type": "code",
      "source": [
        "tensor1 = torch.arange(0,5,2)\n",
        "tensor2 = torch.arange(0,5,2)\n",
        "\n",
        "print(tensor1)\n",
        "print(tensor2)"
      ],
      "metadata": {
        "colab": {
          "base_uri": "https://localhost:8080/"
        },
        "id": "awSqpAnpZmKU",
        "outputId": "c1dd5b71-f64c-477f-d842-fef2cd096fa9"
      },
      "execution_count": 51,
      "outputs": [
        {
          "output_type": "stream",
          "name": "stdout",
          "text": [
            "tensor([0, 2, 4])\n",
            "tensor([0, 2, 4])\n"
          ]
        }
      ]
    },
    {
      "cell_type": "code",
      "source": [
        "# Element wise\n",
        "tensor1 * tensor2"
      ],
      "metadata": {
        "colab": {
          "base_uri": "https://localhost:8080/"
        },
        "id": "2iht9TIEaRbk",
        "outputId": "643033b0-94d1-488b-be1a-840a5aa766bb"
      },
      "execution_count": 52,
      "outputs": [
        {
          "output_type": "execute_result",
          "data": {
            "text/plain": [
              "tensor([ 0,  4, 16])"
            ]
          },
          "metadata": {},
          "execution_count": 52
        }
      ]
    },
    {
      "cell_type": "code",
      "source": [
        "# Matrix multiplication\n",
        "%%time\n",
        "tensor3 = torch.matmul(tensor1,tensor2)\n",
        "tensor3"
      ],
      "metadata": {
        "colab": {
          "base_uri": "https://localhost:8080/"
        },
        "id": "oOBIHOLQa1OL",
        "outputId": "effd53e4-61dc-4af4-b5a0-f2e1f481e614"
      },
      "execution_count": 54,
      "outputs": [
        {
          "output_type": "stream",
          "name": "stdout",
          "text": [
            "CPU times: user 153 µs, sys: 5 µs, total: 158 µs\n",
            "Wall time: 165 µs\n"
          ]
        },
        {
          "output_type": "execute_result",
          "data": {
            "text/plain": [
              "tensor(20)"
            ]
          },
          "metadata": {},
          "execution_count": 54
        }
      ]
    },
    {
      "cell_type": "code",
      "source": [
        "# Higher shape matrix multiplication\n",
        "t1 = torch.tensor([[1,2],\n",
        "                 [3,4],\n",
        "                 [5,6]])\n",
        "\n",
        "t2 = torch.tensor([[7,8],\n",
        "                 [9,10],\n",
        "                 [11,12]])\n",
        "t2 = t2.T\n",
        "print(t2)\n",
        "torch.matmul(t1,t2)"
      ],
      "metadata": {
        "id": "fNZZzV0JddZf",
        "outputId": "4ca703c6-a39e-4a0e-ae5a-de7cbecb661a",
        "colab": {
          "base_uri": "https://localhost:8080/"
        }
      },
      "execution_count": 61,
      "outputs": [
        {
          "output_type": "stream",
          "name": "stdout",
          "text": [
            "tensor([[ 7,  9, 11],\n",
            "        [ 8, 10, 12]])\n"
          ]
        },
        {
          "output_type": "execute_result",
          "data": {
            "text/plain": [
              "tensor([[ 23,  29,  35],\n",
              "        [ 53,  67,  81],\n",
              "        [ 83, 105, 127]])"
            ]
          },
          "metadata": {},
          "execution_count": 61
        }
      ]
    }
  ]
}